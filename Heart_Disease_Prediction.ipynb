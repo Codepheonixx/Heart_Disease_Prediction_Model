{
  "cells": [
    {
      "cell_type": "markdown",
      "metadata": {},
      "source": [
        "Importing necessary libraries."
      ]
    },
    {
      "cell_type": "code",
      "execution_count": 6,
      "metadata": {
        "colab": {
          "base_uri": "https://localhost:8080/"
        },
        "id": "B2jFpadrZT6-",
        "outputId": "516ed1fb-d2fd-4d6a-c5d9-0cdf5728a8df"
      },
      "outputs": [
        {
          "name": "stdout",
          "output_type": "stream",
          "text": [
            "['heart_disease1.csv', 'Mini_prj_dev.ipynb']\n"
          ]
        }
      ],
      "source": [
        "import numpy as np\n",
        "import pandas as pd\n",
        "import matplotlib.pyplot as plt\n",
        "import seaborn as sns\n",
        "\n",
        "#helps to plot graphs inside the jupyter notebook\n",
        "%matplotlib inline \n",
        "\n",
        "import os\n",
        "print(os.listdir())\n",
        "\n",
        "import warnings\n",
        "warnings.filterwarnings('ignore')"
      ]
    },
    {
      "cell_type": "markdown",
      "metadata": {},
      "source": [
        "Creating dataframe using a dataset."
      ]
    },
    {
      "cell_type": "code",
      "execution_count": 7,
      "metadata": {
        "id": "y4GVO425Z04s"
      },
      "outputs": [],
      "source": [
        "dataset = pd.read_csv(\"heart_disease1.csv\")"
      ]
    },
    {
      "cell_type": "markdown",
      "metadata": {},
      "source": [
        "Showing the type of dataset."
      ]
    },
    {
      "cell_type": "code",
      "execution_count": 8,
      "metadata": {
        "colab": {
          "base_uri": "https://localhost:8080/"
        },
        "id": "JWHyCC7vZ4Wj",
        "outputId": "0f988f20-df6a-4589-b8d1-89046c95f395"
      },
      "outputs": [
        {
          "data": {
            "text/plain": [
              "pandas.core.frame.DataFrame"
            ]
          },
          "execution_count": 8,
          "metadata": {},
          "output_type": "execute_result"
        }
      ],
      "source": [
        "type(dataset)"
      ]
    },
    {
      "cell_type": "markdown",
      "metadata": {},
      "source": [
        "Dataframe shapes and samples."
      ]
    },
    {
      "cell_type": "code",
      "execution_count": 23,
      "metadata": {
        "colab": {
          "base_uri": "https://localhost:8080/"
        },
        "id": "e2EuZ6W-Z6Ky",
        "outputId": "38755733-6c82-457f-d0d2-dbe48df0e2c7"
      },
      "outputs": [
        {
          "data": {
            "text/plain": [
              "(4238, 10)"
            ]
          },
          "execution_count": 23,
          "metadata": {},
          "output_type": "execute_result"
        }
      ],
      "source": [
        "dataset.shape"
      ]
    },
    {
      "cell_type": "code",
      "execution_count": 24,
      "metadata": {
        "colab": {
          "base_uri": "https://localhost:8080/",
          "height": 363
        },
        "id": "MhXiOE9SZ7l6",
        "outputId": "d0e0c08f-2773-4500-f2a6-a1c0d656502b"
      },
      "outputs": [
        {
          "data": {
            "text/html": [
              "<div>\n",
              "<style scoped>\n",
              "    .dataframe tbody tr th:only-of-type {\n",
              "        vertical-align: middle;\n",
              "    }\n",
              "\n",
              "    .dataframe tbody tr th {\n",
              "        vertical-align: top;\n",
              "    }\n",
              "\n",
              "    .dataframe thead th {\n",
              "        text-align: right;\n",
              "    }\n",
              "</style>\n",
              "<table border=\"1\" class=\"dataframe\">\n",
              "  <thead>\n",
              "    <tr style=\"text-align: right;\">\n",
              "      <th></th>\n",
              "      <th>Gender</th>\n",
              "      <th>age</th>\n",
              "      <th>currentSmoker</th>\n",
              "      <th>diabetes</th>\n",
              "      <th>totChol</th>\n",
              "      <th>sysBP</th>\n",
              "      <th>diaBP</th>\n",
              "      <th>heartRate</th>\n",
              "      <th>glucose</th>\n",
              "      <th>Target</th>\n",
              "    </tr>\n",
              "  </thead>\n",
              "  <tbody>\n",
              "    <tr>\n",
              "      <th>0</th>\n",
              "      <td>1</td>\n",
              "      <td>39</td>\n",
              "      <td>0</td>\n",
              "      <td>0</td>\n",
              "      <td>195</td>\n",
              "      <td>106.0</td>\n",
              "      <td>70.0</td>\n",
              "      <td>80</td>\n",
              "      <td>77</td>\n",
              "      <td>0</td>\n",
              "    </tr>\n",
              "    <tr>\n",
              "      <th>1</th>\n",
              "      <td>0</td>\n",
              "      <td>46</td>\n",
              "      <td>0</td>\n",
              "      <td>0</td>\n",
              "      <td>250</td>\n",
              "      <td>121.0</td>\n",
              "      <td>81.0</td>\n",
              "      <td>95</td>\n",
              "      <td>76</td>\n",
              "      <td>0</td>\n",
              "    </tr>\n",
              "    <tr>\n",
              "      <th>2</th>\n",
              "      <td>1</td>\n",
              "      <td>48</td>\n",
              "      <td>1</td>\n",
              "      <td>0</td>\n",
              "      <td>245</td>\n",
              "      <td>127.5</td>\n",
              "      <td>80.0</td>\n",
              "      <td>75</td>\n",
              "      <td>70</td>\n",
              "      <td>0</td>\n",
              "    </tr>\n",
              "    <tr>\n",
              "      <th>3</th>\n",
              "      <td>0</td>\n",
              "      <td>61</td>\n",
              "      <td>1</td>\n",
              "      <td>0</td>\n",
              "      <td>225</td>\n",
              "      <td>150.0</td>\n",
              "      <td>95.0</td>\n",
              "      <td>65</td>\n",
              "      <td>103</td>\n",
              "      <td>1</td>\n",
              "    </tr>\n",
              "    <tr>\n",
              "      <th>4</th>\n",
              "      <td>0</td>\n",
              "      <td>46</td>\n",
              "      <td>1</td>\n",
              "      <td>0</td>\n",
              "      <td>285</td>\n",
              "      <td>130.0</td>\n",
              "      <td>84.0</td>\n",
              "      <td>85</td>\n",
              "      <td>85</td>\n",
              "      <td>0</td>\n",
              "    </tr>\n",
              "    <tr>\n",
              "      <th>5</th>\n",
              "      <td>0</td>\n",
              "      <td>43</td>\n",
              "      <td>0</td>\n",
              "      <td>0</td>\n",
              "      <td>228</td>\n",
              "      <td>180.0</td>\n",
              "      <td>110.0</td>\n",
              "      <td>77</td>\n",
              "      <td>99</td>\n",
              "      <td>0</td>\n",
              "    </tr>\n",
              "    <tr>\n",
              "      <th>6</th>\n",
              "      <td>0</td>\n",
              "      <td>63</td>\n",
              "      <td>0</td>\n",
              "      <td>0</td>\n",
              "      <td>205</td>\n",
              "      <td>138.0</td>\n",
              "      <td>71.0</td>\n",
              "      <td>60</td>\n",
              "      <td>85</td>\n",
              "      <td>1</td>\n",
              "    </tr>\n",
              "    <tr>\n",
              "      <th>7</th>\n",
              "      <td>0</td>\n",
              "      <td>45</td>\n",
              "      <td>1</td>\n",
              "      <td>0</td>\n",
              "      <td>313</td>\n",
              "      <td>100.0</td>\n",
              "      <td>71.0</td>\n",
              "      <td>79</td>\n",
              "      <td>78</td>\n",
              "      <td>0</td>\n",
              "    </tr>\n",
              "    <tr>\n",
              "      <th>8</th>\n",
              "      <td>1</td>\n",
              "      <td>52</td>\n",
              "      <td>0</td>\n",
              "      <td>0</td>\n",
              "      <td>260</td>\n",
              "      <td>141.5</td>\n",
              "      <td>89.0</td>\n",
              "      <td>76</td>\n",
              "      <td>79</td>\n",
              "      <td>0</td>\n",
              "    </tr>\n",
              "    <tr>\n",
              "      <th>9</th>\n",
              "      <td>1</td>\n",
              "      <td>43</td>\n",
              "      <td>1</td>\n",
              "      <td>0</td>\n",
              "      <td>225</td>\n",
              "      <td>162.0</td>\n",
              "      <td>107.0</td>\n",
              "      <td>93</td>\n",
              "      <td>88</td>\n",
              "      <td>0</td>\n",
              "    </tr>\n",
              "  </tbody>\n",
              "</table>\n",
              "</div>"
            ],
            "text/plain": [
              "   Gender  age  currentSmoker  diabetes  totChol  sysBP  diaBP  heartRate  \\\n",
              "0       1   39              0         0      195  106.0   70.0         80   \n",
              "1       0   46              0         0      250  121.0   81.0         95   \n",
              "2       1   48              1         0      245  127.5   80.0         75   \n",
              "3       0   61              1         0      225  150.0   95.0         65   \n",
              "4       0   46              1         0      285  130.0   84.0         85   \n",
              "5       0   43              0         0      228  180.0  110.0         77   \n",
              "6       0   63              0         0      205  138.0   71.0         60   \n",
              "7       0   45              1         0      313  100.0   71.0         79   \n",
              "8       1   52              0         0      260  141.5   89.0         76   \n",
              "9       1   43              1         0      225  162.0  107.0         93   \n",
              "\n",
              "   glucose  Target  \n",
              "0       77       0  \n",
              "1       76       0  \n",
              "2       70       0  \n",
              "3      103       1  \n",
              "4       85       0  \n",
              "5       99       0  \n",
              "6       85       1  \n",
              "7       78       0  \n",
              "8       79       0  \n",
              "9       88       0  "
            ]
          },
          "execution_count": 24,
          "metadata": {},
          "output_type": "execute_result"
        }
      ],
      "source": [
        "dataset.head(10)"
      ]
    },
    {
      "cell_type": "code",
      "execution_count": 25,
      "metadata": {
        "colab": {
          "base_uri": "https://localhost:8080/",
          "height": 363
        },
        "id": "uY_oCWEhZ9s3",
        "outputId": "404f8f12-7554-4f14-b99d-9bc0a4f7c265"
      },
      "outputs": [
        {
          "data": {
            "text/html": [
              "<div>\n",
              "<style scoped>\n",
              "    .dataframe tbody tr th:only-of-type {\n",
              "        vertical-align: middle;\n",
              "    }\n",
              "\n",
              "    .dataframe tbody tr th {\n",
              "        vertical-align: top;\n",
              "    }\n",
              "\n",
              "    .dataframe thead th {\n",
              "        text-align: right;\n",
              "    }\n",
              "</style>\n",
              "<table border=\"1\" class=\"dataframe\">\n",
              "  <thead>\n",
              "    <tr style=\"text-align: right;\">\n",
              "      <th></th>\n",
              "      <th>Gender</th>\n",
              "      <th>age</th>\n",
              "      <th>currentSmoker</th>\n",
              "      <th>diabetes</th>\n",
              "      <th>totChol</th>\n",
              "      <th>sysBP</th>\n",
              "      <th>diaBP</th>\n",
              "      <th>heartRate</th>\n",
              "      <th>glucose</th>\n",
              "      <th>Target</th>\n",
              "    </tr>\n",
              "  </thead>\n",
              "  <tbody>\n",
              "    <tr>\n",
              "      <th>4228</th>\n",
              "      <td>0</td>\n",
              "      <td>50</td>\n",
              "      <td>0</td>\n",
              "      <td>1</td>\n",
              "      <td>260</td>\n",
              "      <td>190.0</td>\n",
              "      <td>130.0</td>\n",
              "      <td>85</td>\n",
              "      <td>260</td>\n",
              "      <td>0</td>\n",
              "    </tr>\n",
              "    <tr>\n",
              "      <th>4229</th>\n",
              "      <td>0</td>\n",
              "      <td>51</td>\n",
              "      <td>1</td>\n",
              "      <td>0</td>\n",
              "      <td>251</td>\n",
              "      <td>140.0</td>\n",
              "      <td>80.0</td>\n",
              "      <td>75</td>\n",
              "      <td>0</td>\n",
              "      <td>0</td>\n",
              "    </tr>\n",
              "    <tr>\n",
              "      <th>4230</th>\n",
              "      <td>0</td>\n",
              "      <td>56</td>\n",
              "      <td>1</td>\n",
              "      <td>0</td>\n",
              "      <td>268</td>\n",
              "      <td>170.0</td>\n",
              "      <td>102.0</td>\n",
              "      <td>57</td>\n",
              "      <td>0</td>\n",
              "      <td>0</td>\n",
              "    </tr>\n",
              "    <tr>\n",
              "      <th>4231</th>\n",
              "      <td>1</td>\n",
              "      <td>58</td>\n",
              "      <td>0</td>\n",
              "      <td>0</td>\n",
              "      <td>187</td>\n",
              "      <td>141.0</td>\n",
              "      <td>81.0</td>\n",
              "      <td>80</td>\n",
              "      <td>81</td>\n",
              "      <td>0</td>\n",
              "    </tr>\n",
              "    <tr>\n",
              "      <th>4232</th>\n",
              "      <td>1</td>\n",
              "      <td>68</td>\n",
              "      <td>0</td>\n",
              "      <td>0</td>\n",
              "      <td>176</td>\n",
              "      <td>168.0</td>\n",
              "      <td>97.0</td>\n",
              "      <td>60</td>\n",
              "      <td>79</td>\n",
              "      <td>1</td>\n",
              "    </tr>\n",
              "    <tr>\n",
              "      <th>4233</th>\n",
              "      <td>1</td>\n",
              "      <td>50</td>\n",
              "      <td>1</td>\n",
              "      <td>0</td>\n",
              "      <td>313</td>\n",
              "      <td>179.0</td>\n",
              "      <td>92.0</td>\n",
              "      <td>66</td>\n",
              "      <td>86</td>\n",
              "      <td>1</td>\n",
              "    </tr>\n",
              "    <tr>\n",
              "      <th>4234</th>\n",
              "      <td>1</td>\n",
              "      <td>51</td>\n",
              "      <td>1</td>\n",
              "      <td>0</td>\n",
              "      <td>207</td>\n",
              "      <td>126.5</td>\n",
              "      <td>80.0</td>\n",
              "      <td>65</td>\n",
              "      <td>68</td>\n",
              "      <td>0</td>\n",
              "    </tr>\n",
              "    <tr>\n",
              "      <th>4235</th>\n",
              "      <td>0</td>\n",
              "      <td>48</td>\n",
              "      <td>1</td>\n",
              "      <td>0</td>\n",
              "      <td>248</td>\n",
              "      <td>131.0</td>\n",
              "      <td>72.0</td>\n",
              "      <td>84</td>\n",
              "      <td>86</td>\n",
              "      <td>0</td>\n",
              "    </tr>\n",
              "    <tr>\n",
              "      <th>4236</th>\n",
              "      <td>0</td>\n",
              "      <td>44</td>\n",
              "      <td>1</td>\n",
              "      <td>0</td>\n",
              "      <td>210</td>\n",
              "      <td>126.5</td>\n",
              "      <td>87.0</td>\n",
              "      <td>86</td>\n",
              "      <td>0</td>\n",
              "      <td>0</td>\n",
              "    </tr>\n",
              "    <tr>\n",
              "      <th>4237</th>\n",
              "      <td>0</td>\n",
              "      <td>52</td>\n",
              "      <td>0</td>\n",
              "      <td>0</td>\n",
              "      <td>269</td>\n",
              "      <td>133.5</td>\n",
              "      <td>83.0</td>\n",
              "      <td>80</td>\n",
              "      <td>107</td>\n",
              "      <td>0</td>\n",
              "    </tr>\n",
              "  </tbody>\n",
              "</table>\n",
              "</div>"
            ],
            "text/plain": [
              "      Gender  age  currentSmoker  diabetes  totChol  sysBP  diaBP  heartRate  \\\n",
              "4228       0   50              0         1      260  190.0  130.0         85   \n",
              "4229       0   51              1         0      251  140.0   80.0         75   \n",
              "4230       0   56              1         0      268  170.0  102.0         57   \n",
              "4231       1   58              0         0      187  141.0   81.0         80   \n",
              "4232       1   68              0         0      176  168.0   97.0         60   \n",
              "4233       1   50              1         0      313  179.0   92.0         66   \n",
              "4234       1   51              1         0      207  126.5   80.0         65   \n",
              "4235       0   48              1         0      248  131.0   72.0         84   \n",
              "4236       0   44              1         0      210  126.5   87.0         86   \n",
              "4237       0   52              0         0      269  133.5   83.0         80   \n",
              "\n",
              "      glucose  Target  \n",
              "4228      260       0  \n",
              "4229        0       0  \n",
              "4230        0       0  \n",
              "4231       81       0  \n",
              "4232       79       1  \n",
              "4233       86       1  \n",
              "4234       68       0  \n",
              "4235       86       0  \n",
              "4236        0       0  \n",
              "4237      107       0  "
            ]
          },
          "execution_count": 25,
          "metadata": {},
          "output_type": "execute_result"
        }
      ],
      "source": [
        "dataset.tail(10)"
      ]
    },
    {
      "cell_type": "code",
      "execution_count": 26,
      "metadata": {
        "colab": {
          "base_uri": "https://localhost:8080/",
          "height": 363
        },
        "id": "1NvNEJBQaDKY",
        "outputId": "48fb6442-18c0-4804-a1fe-3ea8b7fb4a21"
      },
      "outputs": [
        {
          "data": {
            "text/html": [
              "<div>\n",
              "<style scoped>\n",
              "    .dataframe tbody tr th:only-of-type {\n",
              "        vertical-align: middle;\n",
              "    }\n",
              "\n",
              "    .dataframe tbody tr th {\n",
              "        vertical-align: top;\n",
              "    }\n",
              "\n",
              "    .dataframe thead th {\n",
              "        text-align: right;\n",
              "    }\n",
              "</style>\n",
              "<table border=\"1\" class=\"dataframe\">\n",
              "  <thead>\n",
              "    <tr style=\"text-align: right;\">\n",
              "      <th></th>\n",
              "      <th>Gender</th>\n",
              "      <th>age</th>\n",
              "      <th>currentSmoker</th>\n",
              "      <th>diabetes</th>\n",
              "      <th>totChol</th>\n",
              "      <th>sysBP</th>\n",
              "      <th>diaBP</th>\n",
              "      <th>heartRate</th>\n",
              "      <th>glucose</th>\n",
              "      <th>Target</th>\n",
              "    </tr>\n",
              "  </thead>\n",
              "  <tbody>\n",
              "    <tr>\n",
              "      <th>2444</th>\n",
              "      <td>0</td>\n",
              "      <td>54</td>\n",
              "      <td>0</td>\n",
              "      <td>0</td>\n",
              "      <td>253</td>\n",
              "      <td>127.0</td>\n",
              "      <td>68.5</td>\n",
              "      <td>70</td>\n",
              "      <td>76</td>\n",
              "      <td>0</td>\n",
              "    </tr>\n",
              "    <tr>\n",
              "      <th>37</th>\n",
              "      <td>1</td>\n",
              "      <td>52</td>\n",
              "      <td>0</td>\n",
              "      <td>1</td>\n",
              "      <td>178</td>\n",
              "      <td>160.0</td>\n",
              "      <td>98.0</td>\n",
              "      <td>75</td>\n",
              "      <td>225</td>\n",
              "      <td>0</td>\n",
              "    </tr>\n",
              "    <tr>\n",
              "      <th>1553</th>\n",
              "      <td>1</td>\n",
              "      <td>67</td>\n",
              "      <td>1</td>\n",
              "      <td>0</td>\n",
              "      <td>285</td>\n",
              "      <td>155.0</td>\n",
              "      <td>90.0</td>\n",
              "      <td>70</td>\n",
              "      <td>77</td>\n",
              "      <td>1</td>\n",
              "    </tr>\n",
              "    <tr>\n",
              "      <th>491</th>\n",
              "      <td>1</td>\n",
              "      <td>63</td>\n",
              "      <td>0</td>\n",
              "      <td>0</td>\n",
              "      <td>207</td>\n",
              "      <td>130.0</td>\n",
              "      <td>72.0</td>\n",
              "      <td>68</td>\n",
              "      <td>81</td>\n",
              "      <td>0</td>\n",
              "    </tr>\n",
              "    <tr>\n",
              "      <th>1434</th>\n",
              "      <td>1</td>\n",
              "      <td>43</td>\n",
              "      <td>1</td>\n",
              "      <td>0</td>\n",
              "      <td>201</td>\n",
              "      <td>121.0</td>\n",
              "      <td>82.0</td>\n",
              "      <td>70</td>\n",
              "      <td>91</td>\n",
              "      <td>0</td>\n",
              "    </tr>\n",
              "    <tr>\n",
              "      <th>3095</th>\n",
              "      <td>0</td>\n",
              "      <td>52</td>\n",
              "      <td>1</td>\n",
              "      <td>0</td>\n",
              "      <td>254</td>\n",
              "      <td>114.0</td>\n",
              "      <td>80.0</td>\n",
              "      <td>75</td>\n",
              "      <td>74</td>\n",
              "      <td>0</td>\n",
              "    </tr>\n",
              "    <tr>\n",
              "      <th>2611</th>\n",
              "      <td>1</td>\n",
              "      <td>49</td>\n",
              "      <td>1</td>\n",
              "      <td>0</td>\n",
              "      <td>288</td>\n",
              "      <td>128.0</td>\n",
              "      <td>89.0</td>\n",
              "      <td>73</td>\n",
              "      <td>75</td>\n",
              "      <td>0</td>\n",
              "    </tr>\n",
              "    <tr>\n",
              "      <th>1577</th>\n",
              "      <td>0</td>\n",
              "      <td>51</td>\n",
              "      <td>0</td>\n",
              "      <td>0</td>\n",
              "      <td>226</td>\n",
              "      <td>130.0</td>\n",
              "      <td>80.0</td>\n",
              "      <td>60</td>\n",
              "      <td>63</td>\n",
              "      <td>0</td>\n",
              "    </tr>\n",
              "    <tr>\n",
              "      <th>3568</th>\n",
              "      <td>0</td>\n",
              "      <td>43</td>\n",
              "      <td>1</td>\n",
              "      <td>0</td>\n",
              "      <td>276</td>\n",
              "      <td>99.0</td>\n",
              "      <td>62.0</td>\n",
              "      <td>60</td>\n",
              "      <td>80</td>\n",
              "      <td>0</td>\n",
              "    </tr>\n",
              "    <tr>\n",
              "      <th>1219</th>\n",
              "      <td>1</td>\n",
              "      <td>58</td>\n",
              "      <td>0</td>\n",
              "      <td>0</td>\n",
              "      <td>264</td>\n",
              "      <td>181.0</td>\n",
              "      <td>90.0</td>\n",
              "      <td>75</td>\n",
              "      <td>71</td>\n",
              "      <td>0</td>\n",
              "    </tr>\n",
              "  </tbody>\n",
              "</table>\n",
              "</div>"
            ],
            "text/plain": [
              "      Gender  age  currentSmoker  diabetes  totChol  sysBP  diaBP  heartRate  \\\n",
              "2444       0   54              0         0      253  127.0   68.5         70   \n",
              "37         1   52              0         1      178  160.0   98.0         75   \n",
              "1553       1   67              1         0      285  155.0   90.0         70   \n",
              "491        1   63              0         0      207  130.0   72.0         68   \n",
              "1434       1   43              1         0      201  121.0   82.0         70   \n",
              "3095       0   52              1         0      254  114.0   80.0         75   \n",
              "2611       1   49              1         0      288  128.0   89.0         73   \n",
              "1577       0   51              0         0      226  130.0   80.0         60   \n",
              "3568       0   43              1         0      276   99.0   62.0         60   \n",
              "1219       1   58              0         0      264  181.0   90.0         75   \n",
              "\n",
              "      glucose  Target  \n",
              "2444       76       0  \n",
              "37        225       0  \n",
              "1553       77       1  \n",
              "491        81       0  \n",
              "1434       91       0  \n",
              "3095       74       0  \n",
              "2611       75       0  \n",
              "1577       63       0  \n",
              "3568       80       0  \n",
              "1219       71       0  "
            ]
          },
          "execution_count": 26,
          "metadata": {},
          "output_type": "execute_result"
        }
      ],
      "source": [
        "dataset.sample(10)"
      ]
    },
    {
      "cell_type": "code",
      "execution_count": 27,
      "metadata": {
        "colab": {
          "base_uri": "https://localhost:8080/",
          "height": 320
        },
        "id": "5sPtv_nLaHVP",
        "outputId": "25991bdd-d9bb-4ce7-a43a-425245c43d5e"
      },
      "outputs": [
        {
          "data": {
            "text/html": [
              "<div>\n",
              "<style scoped>\n",
              "    .dataframe tbody tr th:only-of-type {\n",
              "        vertical-align: middle;\n",
              "    }\n",
              "\n",
              "    .dataframe tbody tr th {\n",
              "        vertical-align: top;\n",
              "    }\n",
              "\n",
              "    .dataframe thead th {\n",
              "        text-align: right;\n",
              "    }\n",
              "</style>\n",
              "<table border=\"1\" class=\"dataframe\">\n",
              "  <thead>\n",
              "    <tr style=\"text-align: right;\">\n",
              "      <th></th>\n",
              "      <th>Gender</th>\n",
              "      <th>age</th>\n",
              "      <th>currentSmoker</th>\n",
              "      <th>diabetes</th>\n",
              "      <th>totChol</th>\n",
              "      <th>sysBP</th>\n",
              "      <th>diaBP</th>\n",
              "      <th>heartRate</th>\n",
              "      <th>glucose</th>\n",
              "      <th>Target</th>\n",
              "    </tr>\n",
              "  </thead>\n",
              "  <tbody>\n",
              "    <tr>\n",
              "      <th>count</th>\n",
              "      <td>4238.000000</td>\n",
              "      <td>4238.000000</td>\n",
              "      <td>4238.000000</td>\n",
              "      <td>4238.000000</td>\n",
              "      <td>4238.000000</td>\n",
              "      <td>4238.000000</td>\n",
              "      <td>4238.000000</td>\n",
              "      <td>4238.000000</td>\n",
              "      <td>4238.000000</td>\n",
              "      <td>4238.000000</td>\n",
              "    </tr>\n",
              "    <tr>\n",
              "      <th>mean</th>\n",
              "      <td>0.429212</td>\n",
              "      <td>49.584946</td>\n",
              "      <td>0.494101</td>\n",
              "      <td>0.025720</td>\n",
              "      <td>233.928740</td>\n",
              "      <td>132.352407</td>\n",
              "      <td>82.893464</td>\n",
              "      <td>75.861019</td>\n",
              "      <td>74.462482</td>\n",
              "      <td>0.151958</td>\n",
              "    </tr>\n",
              "    <tr>\n",
              "      <th>std</th>\n",
              "      <td>0.495022</td>\n",
              "      <td>8.572160</td>\n",
              "      <td>0.500024</td>\n",
              "      <td>0.158316</td>\n",
              "      <td>51.169478</td>\n",
              "      <td>22.038097</td>\n",
              "      <td>11.910850</td>\n",
              "      <td>12.081533</td>\n",
              "      <td>32.869879</td>\n",
              "      <td>0.359023</td>\n",
              "    </tr>\n",
              "    <tr>\n",
              "      <th>min</th>\n",
              "      <td>0.000000</td>\n",
              "      <td>32.000000</td>\n",
              "      <td>0.000000</td>\n",
              "      <td>0.000000</td>\n",
              "      <td>0.000000</td>\n",
              "      <td>83.500000</td>\n",
              "      <td>48.000000</td>\n",
              "      <td>0.000000</td>\n",
              "      <td>0.000000</td>\n",
              "      <td>0.000000</td>\n",
              "    </tr>\n",
              "    <tr>\n",
              "      <th>25%</th>\n",
              "      <td>0.000000</td>\n",
              "      <td>42.000000</td>\n",
              "      <td>0.000000</td>\n",
              "      <td>0.000000</td>\n",
              "      <td>205.000000</td>\n",
              "      <td>117.000000</td>\n",
              "      <td>75.000000</td>\n",
              "      <td>68.000000</td>\n",
              "      <td>68.000000</td>\n",
              "      <td>0.000000</td>\n",
              "    </tr>\n",
              "    <tr>\n",
              "      <th>50%</th>\n",
              "      <td>0.000000</td>\n",
              "      <td>49.000000</td>\n",
              "      <td>0.000000</td>\n",
              "      <td>0.000000</td>\n",
              "      <td>233.000000</td>\n",
              "      <td>128.000000</td>\n",
              "      <td>82.000000</td>\n",
              "      <td>75.000000</td>\n",
              "      <td>77.000000</td>\n",
              "      <td>0.000000</td>\n",
              "    </tr>\n",
              "    <tr>\n",
              "      <th>75%</th>\n",
              "      <td>1.000000</td>\n",
              "      <td>56.000000</td>\n",
              "      <td>1.000000</td>\n",
              "      <td>0.000000</td>\n",
              "      <td>262.000000</td>\n",
              "      <td>144.000000</td>\n",
              "      <td>89.875000</td>\n",
              "      <td>83.000000</td>\n",
              "      <td>85.000000</td>\n",
              "      <td>0.000000</td>\n",
              "    </tr>\n",
              "    <tr>\n",
              "      <th>max</th>\n",
              "      <td>1.000000</td>\n",
              "      <td>70.000000</td>\n",
              "      <td>1.000000</td>\n",
              "      <td>1.000000</td>\n",
              "      <td>696.000000</td>\n",
              "      <td>295.000000</td>\n",
              "      <td>142.500000</td>\n",
              "      <td>143.000000</td>\n",
              "      <td>394.000000</td>\n",
              "      <td>1.000000</td>\n",
              "    </tr>\n",
              "  </tbody>\n",
              "</table>\n",
              "</div>"
            ],
            "text/plain": [
              "            Gender          age  currentSmoker     diabetes      totChol  \\\n",
              "count  4238.000000  4238.000000    4238.000000  4238.000000  4238.000000   \n",
              "mean      0.429212    49.584946       0.494101     0.025720   233.928740   \n",
              "std       0.495022     8.572160       0.500024     0.158316    51.169478   \n",
              "min       0.000000    32.000000       0.000000     0.000000     0.000000   \n",
              "25%       0.000000    42.000000       0.000000     0.000000   205.000000   \n",
              "50%       0.000000    49.000000       0.000000     0.000000   233.000000   \n",
              "75%       1.000000    56.000000       1.000000     0.000000   262.000000   \n",
              "max       1.000000    70.000000       1.000000     1.000000   696.000000   \n",
              "\n",
              "             sysBP        diaBP    heartRate      glucose       Target  \n",
              "count  4238.000000  4238.000000  4238.000000  4238.000000  4238.000000  \n",
              "mean    132.352407    82.893464    75.861019    74.462482     0.151958  \n",
              "std      22.038097    11.910850    12.081533    32.869879     0.359023  \n",
              "min      83.500000    48.000000     0.000000     0.000000     0.000000  \n",
              "25%     117.000000    75.000000    68.000000    68.000000     0.000000  \n",
              "50%     128.000000    82.000000    75.000000    77.000000     0.000000  \n",
              "75%     144.000000    89.875000    83.000000    85.000000     0.000000  \n",
              "max     295.000000   142.500000   143.000000   394.000000     1.000000  "
            ]
          },
          "execution_count": 27,
          "metadata": {},
          "output_type": "execute_result"
        }
      ],
      "source": [
        "dataset.describe()"
      ]
    },
    {
      "cell_type": "code",
      "execution_count": 28,
      "metadata": {
        "colab": {
          "base_uri": "https://localhost:8080/"
        },
        "id": "2O8Pr4ZmaIru",
        "outputId": "a197bc4d-fb8d-47d0-92b0-ad62b2fbf04f"
      },
      "outputs": [
        {
          "name": "stdout",
          "output_type": "stream",
          "text": [
            "<class 'pandas.core.frame.DataFrame'>\n",
            "RangeIndex: 4238 entries, 0 to 4237\n",
            "Data columns (total 10 columns):\n",
            " #   Column         Non-Null Count  Dtype  \n",
            "---  ------         --------------  -----  \n",
            " 0   Gender         4238 non-null   int64  \n",
            " 1   age            4238 non-null   int64  \n",
            " 2   currentSmoker  4238 non-null   int64  \n",
            " 3   diabetes       4238 non-null   int64  \n",
            " 4   totChol        4238 non-null   int64  \n",
            " 5   sysBP          4238 non-null   float64\n",
            " 6   diaBP          4238 non-null   float64\n",
            " 7   heartRate      4238 non-null   int64  \n",
            " 8   glucose        4238 non-null   int64  \n",
            " 9   Target         4238 non-null   int64  \n",
            "dtypes: float64(2), int64(8)\n",
            "memory usage: 331.2 KB\n"
          ]
        }
      ],
      "source": [
        "dataset.info()"
      ]
    },
    {
      "cell_type": "markdown",
      "metadata": {},
      "source": [
        "Description of Target."
      ]
    },
    {
      "cell_type": "code",
      "execution_count": 29,
      "metadata": {
        "colab": {
          "base_uri": "https://localhost:8080/"
        },
        "id": "-_vAEvhegdYA",
        "outputId": "0a3a5414-6342-4131-8ace-5e24a86a5f66"
      },
      "outputs": [
        {
          "data": {
            "text/plain": [
              "count    4238.000000\n",
              "mean        0.151958\n",
              "std         0.359023\n",
              "min         0.000000\n",
              "25%         0.000000\n",
              "50%         0.000000\n",
              "75%         0.000000\n",
              "max         1.000000\n",
              "Name: Target, dtype: float64"
            ]
          },
          "execution_count": 29,
          "metadata": {},
          "output_type": "execute_result"
        }
      ],
      "source": [
        "dataset[\"Target\"].describe()"
      ]
    },
    {
      "cell_type": "code",
      "execution_count": 30,
      "metadata": {
        "colab": {
          "base_uri": "https://localhost:8080/"
        },
        "id": "rtbbHjqKgrKf",
        "outputId": "13c9d609-dcc0-41e4-f6b5-b5176d4ffbc3"
      },
      "outputs": [
        {
          "data": {
            "text/plain": [
              "array([0, 1], dtype=int64)"
            ]
          },
          "execution_count": 30,
          "metadata": {},
          "output_type": "execute_result"
        }
      ],
      "source": [
        "dataset[\"Target\"].unique()"
      ]
    },
    {
      "cell_type": "code",
      "execution_count": 31,
      "metadata": {
        "colab": {
          "base_uri": "https://localhost:8080/"
        },
        "id": "A81yWkHIgt1p",
        "outputId": "3dd29326-d47c-4e7b-cf6c-c213306cabfa"
      },
      "outputs": [
        {
          "name": "stdout",
          "output_type": "stream",
          "text": [
            "Target           1.000000\n",
            "age              0.225256\n",
            "sysBP            0.216429\n",
            "diaBP            0.145299\n",
            "glucose          0.098341\n",
            "diabetes         0.097317\n",
            "Gender           0.088428\n",
            "totChol          0.066444\n",
            "currentSmoker    0.019456\n",
            "heartRate        0.019289\n",
            "Name: Target, dtype: float64\n"
          ]
        }
      ],
      "source": [
        "print(dataset.corr()[\"Target\"].abs().sort_values(ascending=False))"
      ]
    },
    {
      "cell_type": "markdown",
      "metadata": {},
      "source": [
        "Plot of patients with and without heart disease."
      ]
    },
    {
      "cell_type": "code",
      "execution_count": 22,
      "metadata": {
        "colab": {
          "base_uri": "https://localhost:8080/",
          "height": 501
        },
        "id": "CqbrTqg7gwrH",
        "outputId": "8bf10e49-6724-410e-8b1d-5ba0b0dda815"
      },
      "outputs": [
        {
          "name": "stdout",
          "output_type": "stream",
          "text": [
            "Target\n",
            "0    3594\n",
            "1     644\n",
            "Name: count, dtype: int64\n"
          ]
        },
        {
          "data": {
            "image/png": "[encoded data removed]",
            "text/plain": [
              "<Figure size 640x480 with 1 Axes>"
            ]
          },
          "metadata": {},
          "output_type": "display_data"
        }
      ],
      "source": [
        "Target_temp = dataset.Target.value_counts()\n",
        "print(Target_temp)\n",
        "\n",
        "sns.set_style(\"whitegrid\")\n",
        "sns.histplot(x=None,y=None,data= dataset[\"Target\"],binwidth=0.2,kde=True)\n",
        "plt.show()\n"
      ]
    },
    {
      "cell_type": "code",
      "execution_count": 22,
      "metadata": {
        "colab": {
          "base_uri": "https://localhost:8080/"
        },
        "id": "iwZlNKxwgzhE",
        "outputId": "1003a2b3-b24b-4e85-c2e3-4032c17f95cd"
      },
      "outputs": [
        {
          "name": "stdout",
          "output_type": "stream",
          "text": [
            "Percentage of patience without heart problems: 84.8\n",
            "Percentage of patience with heart problems: 15.2\n"
          ]
        }
      ],
      "source": [
        "print(\"Percentage of patience without heart problems: \"+str(round(Target_temp[0]*100/4238,2)))\n",
        "print(\"Percentage of patience with heart problems: \"+str(round(Target_temp[1]*100/4238,2)))"
      ]
    },
    {
      "cell_type": "markdown",
      "metadata": {},
      "source": [
        "Plot of gender."
      ]
    },
    {
      "cell_type": "code",
      "execution_count": 25,
      "metadata": {
        "colab": {
          "base_uri": "https://localhost:8080/"
        },
        "id": "qmc2v2DjiOjv",
        "outputId": "d5a4b946-4a5f-435b-8d74-1ee8c96953d4"
      },
      "outputs": [
        {
          "data": {
            "text/plain": [
              "array([1, 0])"
            ]
          },
          "execution_count": 25,
          "metadata": {},
          "output_type": "execute_result"
        }
      ],
      "source": [
        "dataset[\"Gender\"].unique()"
      ]
    },
    {
      "cell_type": "code",
      "execution_count": 23,
      "metadata": {
        "colab": {
          "base_uri": "https://localhost:8080/",
          "height": 466
        },
        "id": "OhW4dR-Yiavv",
        "outputId": "258687a1-88b6-4a45-d0ff-fd2df93c675c"
      },
      "outputs": [
        {
          "data": {
            "image/png": "[encoded data removed]",
            "text/plain": [
              "<Figure size 640x480 with 1 Axes>"
            ]
          },
          "metadata": {},
          "output_type": "display_data"
        }
      ],
      "source": [
        "sns.set_style(\"whitegrid\")\n",
        "sns.histplot(x=None,y=None,data= dataset[\"Gender\"],binwidth=0.2,kde=True)\n",
        "plt.show()"
      ]
    },
    {
      "cell_type": "markdown",
      "metadata": {},
      "source": [
        "Plot of patients currently smoking."
      ]
    },
    {
      "cell_type": "code",
      "execution_count": 51,
      "metadata": {
        "colab": {
          "base_uri": "https://localhost:8080/"
        },
        "id": "qxZmq_DAlzM0",
        "outputId": "e9b19fd2-7474-4b8b-c0d2-246a695f7040"
      },
      "outputs": [
        {
          "data": {
            "text/plain": [
              "array([0, 1])"
            ]
          },
          "execution_count": 51,
          "metadata": {},
          "output_type": "execute_result"
        }
      ],
      "source": [
        "dataset[\"currentSmoker\"].unique()"
      ]
    },
    {
      "cell_type": "code",
      "execution_count": 24,
      "metadata": {
        "colab": {
          "base_uri": "https://localhost:8080/",
          "height": 466
        },
        "id": "OoHC-Asuno6H",
        "outputId": "522acb5d-234c-45b3-9758-0357c19fef1f"
      },
      "outputs": [
        {
          "data": {
            "image/png": "[encoded data removed]",
            "text/plain": [
              "<Figure size 640x480 with 1 Axes>"
            ]
          },
          "metadata": {},
          "output_type": "display_data"
        }
      ],
      "source": [
        "sns.set_style(\"whitegrid\")\n",
        "sns.histplot(x=None,y=None,data= dataset[\"currentSmoker\"],binwidth=0.2,kde=True)\n",
        "plt.show()"
      ]
    },
    {
      "cell_type": "markdown",
      "metadata": {},
      "source": [
        "Plot of patients with diabetes."
      ]
    },
    {
      "cell_type": "code",
      "execution_count": 54,
      "metadata": {
        "colab": {
          "base_uri": "https://localhost:8080/"
        },
        "id": "7OtZzUjAnun_",
        "outputId": "989318a7-3a19-4ba8-e430-1231d0ae3248"
      },
      "outputs": [
        {
          "data": {
            "text/plain": [
              "count    4238.000000\n",
              "mean        0.025720\n",
              "std         0.158316\n",
              "min         0.000000\n",
              "25%         0.000000\n",
              "50%         0.000000\n",
              "75%         0.000000\n",
              "max         1.000000\n",
              "Name: diabetes, dtype: float64"
            ]
          },
          "execution_count": 54,
          "metadata": {},
          "output_type": "execute_result"
        }
      ],
      "source": [
        "dataset[\"diabetes\"].describe()"
      ]
    },
    {
      "cell_type": "code",
      "execution_count": 55,
      "metadata": {
        "colab": {
          "base_uri": "https://localhost:8080/"
        },
        "id": "FRTA5J38oAbb",
        "outputId": "873d3061-957c-4829-d5a9-d483aedf66d4"
      },
      "outputs": [
        {
          "data": {
            "text/plain": [
              "array([0, 1])"
            ]
          },
          "execution_count": 55,
          "metadata": {},
          "output_type": "execute_result"
        }
      ],
      "source": [
        "dataset[\"diabetes\"].unique()"
      ]
    },
    {
      "cell_type": "code",
      "execution_count": 36,
      "metadata": {
        "colab": {
          "base_uri": "https://localhost:8080/",
          "height": 466
        },
        "id": "dXxKJoM-oFLk",
        "outputId": "25def2aa-c0b2-4d71-b7e4-793d05ce9ecf"
      },
      "outputs": [
        {
          "data": {
            "image/png": "[encoded data removed]",
            "text/plain": [
              "<Figure size 640x480 with 1 Axes>"
            ]
          },
          "metadata": {},
          "output_type": "display_data"
        }
      ],
      "source": [
        "sns.set_style(\"whitegrid\")\n",
        "sns.histplot(x=None,y=None,data= dataset[\"diabetes\"],binwidth=0.2,kde=True)\n",
        "plt.show()"
      ]
    },
    {
      "cell_type": "markdown",
      "metadata": {},
      "source": [
        "Relation of patients having heart disease and their gender."
      ]
    },
    {
      "cell_type": "code",
      "execution_count": 65,
      "metadata": {
        "colab": {
          "base_uri": "https://localhost:8080/",
          "height": 564
        },
        "id": "x9IOPn9UogAk",
        "outputId": "86b8a48b-aa78-432a-a6f7-5ee430c1b0fe"
      },
      "outputs": [
        {
          "data": {
            "image/png": "[encoded data removed]",
            "text/plain": [
              "<Figure size 1000x600 with 1 Axes>"
            ]
          },
          "metadata": {},
          "output_type": "display_data"
        }
      ],
      "source": [
        "pd.crosstab(dataset.Target, dataset.Gender).plot(kind=\"bar\",figsize=(10,6),color=[\"pink\",\"blue\"])\n",
        "plt.title(\"heart disease frequency for Gender\")\n",
        "plt.xlabel(\"0 = no disease, 1 = disease\")\n",
        "plt.ylabel(\"Amount\")\n",
        "plt.legend([\"female\", \"male\"])\n",
        "plt.xticks(rotation=0);"
      ]
    },
    {
      "cell_type": "markdown",
      "metadata": {},
      "source": [
        "Histogram of age of patients."
      ]
    },
    {
      "cell_type": "code",
      "execution_count": 67,
      "metadata": {
        "colab": {
          "base_uri": "https://localhost:8080/",
          "height": 447
        },
        "id": "DRG2KXG9p_53",
        "outputId": "269342a6-7e57-4bc5-a613-02b03e2687ed"
      },
      "outputs": [
        {
          "data": {
            "image/png": "[encoded data removed]",
            "text/plain": [
              "<Figure size 640x480 with 1 Axes>"
            ]
          },
          "metadata": {},
          "output_type": "display_data"
        }
      ],
      "source": [
        "sns.histplot(data=dataset[\"age\"],kde=True)\n",
        "plt.show()"
      ]
    },
    {
      "cell_type": "markdown",
      "metadata": {},
      "source": [
        "Correlation of the data with target."
      ]
    },
    {
      "cell_type": "code",
      "execution_count": 55,
      "metadata": {
        "colab": {
          "base_uri": "https://localhost:8080/",
          "height": 383
        },
        "id": "VKaQas-9qK1u",
        "outputId": "b8f977b8-545e-40a2-b7d4-fd85ef7a3bf5"
      },
      "outputs": [
        {
          "data": {
            "text/html": [
              "<div>\n",
              "<style scoped>\n",
              "    .dataframe tbody tr th:only-of-type {\n",
              "        vertical-align: middle;\n",
              "    }\n",
              "\n",
              "    .dataframe tbody tr th {\n",
              "        vertical-align: top;\n",
              "    }\n",
              "\n",
              "    .dataframe thead th {\n",
              "        text-align: right;\n",
              "    }\n",
              "</style>\n",
              "<table border=\"1\" class=\"dataframe\">\n",
              "  <thead>\n",
              "    <tr style=\"text-align: right;\">\n",
              "      <th></th>\n",
              "      <th>Gender</th>\n",
              "      <th>age</th>\n",
              "      <th>currentSmoker</th>\n",
              "      <th>diabetes</th>\n",
              "      <th>totChol</th>\n",
              "      <th>sysBP</th>\n",
              "      <th>diaBP</th>\n",
              "      <th>heartRate</th>\n",
              "      <th>glucose</th>\n",
              "      <th>Target</th>\n",
              "    </tr>\n",
              "  </thead>\n",
              "  <tbody>\n",
              "    <tr>\n",
              "      <th>Gender</th>\n",
              "      <td>1.000000</td>\n",
              "      <td>-0.028979</td>\n",
              "      <td>0.197596</td>\n",
              "      <td>0.015708</td>\n",
              "      <td>-0.028720</td>\n",
              "      <td>-0.035989</td>\n",
              "      <td>0.057933</td>\n",
              "      <td>-0.117767</td>\n",
              "      <td>0.065312</td>\n",
              "      <td>0.088428</td>\n",
              "    </tr>\n",
              "    <tr>\n",
              "      <th>age</th>\n",
              "      <td>-0.028979</td>\n",
              "      <td>1.000000</td>\n",
              "      <td>-0.213748</td>\n",
              "      <td>0.101258</td>\n",
              "      <td>0.213395</td>\n",
              "      <td>0.394302</td>\n",
              "      <td>0.206104</td>\n",
              "      <td>-0.015252</td>\n",
              "      <td>0.096765</td>\n",
              "      <td>0.225256</td>\n",
              "    </tr>\n",
              "    <tr>\n",
              "      <th>currentSmoker</th>\n",
              "      <td>0.197596</td>\n",
              "      <td>-0.213748</td>\n",
              "      <td>1.000000</td>\n",
              "      <td>-0.044295</td>\n",
              "      <td>-0.053841</td>\n",
              "      <td>-0.130230</td>\n",
              "      <td>-0.107746</td>\n",
              "      <td>0.060557</td>\n",
              "      <td>-0.053267</td>\n",
              "      <td>0.019456</td>\n",
              "    </tr>\n",
              "    <tr>\n",
              "      <th>diabetes</th>\n",
              "      <td>0.015708</td>\n",
              "      <td>0.101258</td>\n",
              "      <td>-0.044295</td>\n",
              "      <td>1.000000</td>\n",
              "      <td>0.036702</td>\n",
              "      <td>0.111283</td>\n",
              "      <td>0.050329</td>\n",
              "      <td>0.049006</td>\n",
              "      <td>0.443046</td>\n",
              "      <td>0.097317</td>\n",
              "    </tr>\n",
              "    <tr>\n",
              "      <th>totChol</th>\n",
              "      <td>-0.028720</td>\n",
              "      <td>0.213395</td>\n",
              "      <td>-0.053841</td>\n",
              "      <td>0.036702</td>\n",
              "      <td>1.000000</td>\n",
              "      <td>0.173608</td>\n",
              "      <td>0.141129</td>\n",
              "      <td>0.067856</td>\n",
              "      <td>0.133097</td>\n",
              "      <td>0.066444</td>\n",
              "    </tr>\n",
              "    <tr>\n",
              "      <th>sysBP</th>\n",
              "      <td>-0.035989</td>\n",
              "      <td>0.394302</td>\n",
              "      <td>-0.130230</td>\n",
              "      <td>0.111283</td>\n",
              "      <td>0.173608</td>\n",
              "      <td>1.000000</td>\n",
              "      <td>0.784002</td>\n",
              "      <td>0.178624</td>\n",
              "      <td>0.103541</td>\n",
              "      <td>0.216429</td>\n",
              "    </tr>\n",
              "    <tr>\n",
              "      <th>diaBP</th>\n",
              "      <td>0.057933</td>\n",
              "      <td>0.206104</td>\n",
              "      <td>-0.107746</td>\n",
              "      <td>0.050329</td>\n",
              "      <td>0.141129</td>\n",
              "      <td>0.784002</td>\n",
              "      <td>1.000000</td>\n",
              "      <td>0.181383</td>\n",
              "      <td>0.047474</td>\n",
              "      <td>0.145299</td>\n",
              "    </tr>\n",
              "    <tr>\n",
              "      <th>heartRate</th>\n",
              "      <td>-0.117767</td>\n",
              "      <td>-0.015252</td>\n",
              "      <td>0.060557</td>\n",
              "      <td>0.049006</td>\n",
              "      <td>0.067856</td>\n",
              "      <td>0.178624</td>\n",
              "      <td>0.181383</td>\n",
              "      <td>1.000000</td>\n",
              "      <td>0.033756</td>\n",
              "      <td>0.019289</td>\n",
              "    </tr>\n",
              "    <tr>\n",
              "      <th>glucose</th>\n",
              "      <td>0.065312</td>\n",
              "      <td>0.096765</td>\n",
              "      <td>-0.053267</td>\n",
              "      <td>0.443046</td>\n",
              "      <td>0.133097</td>\n",
              "      <td>0.103541</td>\n",
              "      <td>0.047474</td>\n",
              "      <td>0.033756</td>\n",
              "      <td>1.000000</td>\n",
              "      <td>0.098341</td>\n",
              "    </tr>\n",
              "    <tr>\n",
              "      <th>Target</th>\n",
              "      <td>0.088428</td>\n",
              "      <td>0.225256</td>\n",
              "      <td>0.019456</td>\n",
              "      <td>0.097317</td>\n",
              "      <td>0.066444</td>\n",
              "      <td>0.216429</td>\n",
              "      <td>0.145299</td>\n",
              "      <td>0.019289</td>\n",
              "      <td>0.098341</td>\n",
              "      <td>1.000000</td>\n",
              "    </tr>\n",
              "  </tbody>\n",
              "</table>\n",
              "</div>"
            ],
            "text/plain": [
              "                 Gender       age  currentSmoker  diabetes   totChol  \\\n",
              "Gender         1.000000 -0.028979       0.197596  0.015708 -0.028720   \n",
              "age           -0.028979  1.000000      -0.213748  0.101258  0.213395   \n",
              "currentSmoker  0.197596 -0.213748       1.000000 -0.044295 -0.053841   \n",
              "diabetes       0.015708  0.101258      -0.044295  1.000000  0.036702   \n",
              "totChol       -0.028720  0.213395      -0.053841  0.036702  1.000000   \n",
              "sysBP         -0.035989  0.394302      -0.130230  0.111283  0.173608   \n",
              "diaBP          0.057933  0.206104      -0.107746  0.050329  0.141129   \n",
              "heartRate     -0.117767 -0.015252       0.060557  0.049006  0.067856   \n",
              "glucose        0.065312  0.096765      -0.053267  0.443046  0.133097   \n",
              "Target         0.088428  0.225256       0.019456  0.097317  0.066444   \n",
              "\n",
              "                  sysBP     diaBP  heartRate   glucose    Target  \n",
              "Gender        -0.035989  0.057933  -0.117767  0.065312  0.088428  \n",
              "age            0.394302  0.206104  -0.015252  0.096765  0.225256  \n",
              "currentSmoker -0.130230 -0.107746   0.060557 -0.053267  0.019456  \n",
              "diabetes       0.111283  0.050329   0.049006  0.443046  0.097317  \n",
              "totChol        0.173608  0.141129   0.067856  0.133097  0.066444  \n",
              "sysBP          1.000000  0.784002   0.178624  0.103541  0.216429  \n",
              "diaBP          0.784002  1.000000   0.181383  0.047474  0.145299  \n",
              "heartRate      0.178624  0.181383   1.000000  0.033756  0.019289  \n",
              "glucose        0.103541  0.047474   0.033756  1.000000  0.098341  \n",
              "Target         0.216429  0.145299   0.019289  0.098341  1.000000  "
            ]
          },
          "execution_count": 55,
          "metadata": {},
          "output_type": "execute_result"
        }
      ],
      "source": [
        "dataset.corr()"
      ]
    },
    {
      "cell_type": "markdown",
      "metadata": {},
      "source": [
        "Heatmap of the correlation."
      ]
    },
    {
      "cell_type": "code",
      "execution_count": 66,
      "metadata": {
        "colab": {
          "base_uri": "https://localhost:8080/",
          "height": 678
        },
        "id": "ccvGu6r9qTAz",
        "outputId": "c8832ff2-d2b7-4d8f-9eaa-1f1669de136e"
      },
      "outputs": [
        {
          "data": {
            "text/plain": [
              "(10.5, -0.5)"
            ]
          },
          "execution_count": 66,
          "metadata": {},
          "output_type": "execute_result"
        },
        {
          "data": {
            "image/png": "[encoded data removed]",
            "text/plain": [
              "<Figure size 1500x1000 with 2 Axes>"
            ]
          },
          "metadata": {},
          "output_type": "display_data"
        }
      ],
      "source": [
        "corr_matrix = dataset.corr()\n",
        "fig, ax =plt.subplots(figsize=(15,10))\n",
        "ax = sns.heatmap(corr_matrix,\n",
        "                 annot =True,\n",
        "                 linewidths=0.5,\n",
        "                 fmt=\".2f\",\n",
        "                 cmap=\"Oranges\");\n",
        "bottom, top = ax.get_ylim()\n",
        "ax.set_ylim(bottom+0.5,top-0.5)"
      ]
    },
    {
      "cell_type": "code",
      "execution_count": 68,
      "metadata": {
        "colab": {
          "base_uri": "https://localhost:8080/",
          "height": 447
        },
        "id": "XRwtWXt8qb1Y",
        "outputId": "c03c40bb-b1b5-4eaa-eb71-9755f589b1da"
      },
      "outputs": [
        {
          "data": {
            "image/png": "[encoded data removed]",
            "text/plain": [
              "<Figure size 640x480 with 1 Axes>"
            ]
          },
          "metadata": {},
          "output_type": "display_data"
        }
      ],
      "source": [
        "sns.histplot(data=dataset[\"totChol\"],kde=True)\n",
        "plt.show()"
      ]
    },
    {
      "cell_type": "code",
      "execution_count": 69,
      "metadata": {
        "colab": {
          "base_uri": "https://localhost:8080/",
          "height": 447
        },
        "id": "Av44Eiq1rgBQ",
        "outputId": "d491db56-fc32-452d-b4f3-d7bb321449f8"
      },
      "outputs": [
        {
          "data": {
            "image/png": "[encoded data removed]",
            "text/plain": [
              "<Figure size 640x480 with 1 Axes>"
            ]
          },
          "metadata": {},
          "output_type": "display_data"
        }
      ],
      "source": [
        "sns.histplot(data=dataset[\"sysBP\"],kde=True)\n",
        "plt.show()"
      ]
    },
    {
      "cell_type": "code",
      "execution_count": 70,
      "metadata": {
        "colab": {
          "base_uri": "https://localhost:8080/",
          "height": 447
        },
        "id": "-FHDPLM4rm42",
        "outputId": "855d4550-0cc8-49ea-aa30-001d965febc2"
      },
      "outputs": [
        {
          "data": {
            "image/png": "[encoded data removed]",
            "text/plain": [
              "<Figure size 640x480 with 1 Axes>"
            ]
          },
          "metadata": {},
          "output_type": "display_data"
        }
      ],
      "source": [
        "sns.histplot(data=dataset[\"diaBP\"],kde=True)\n",
        "plt.show()"
      ]
    },
    {
      "cell_type": "code",
      "execution_count": 71,
      "metadata": {
        "colab": {
          "base_uri": "https://localhost:8080/",
          "height": 447
        },
        "id": "eYyNBGhYrqYM",
        "outputId": "d9294211-57c2-44db-c86e-d4fc6c092ddd"
      },
      "outputs": [
        {
          "data": {
            "image/png": "[encoded data removed]",
            "text/plain": [
              "<Figure size 640x480 with 1 Axes>"
            ]
          },
          "metadata": {},
          "output_type": "display_data"
        }
      ],
      "source": [
        "sns.histplot(data=dataset[\"heartRate\"],kde=True)\n",
        "plt.show()"
      ]
    },
    {
      "cell_type": "code",
      "execution_count": 72,
      "metadata": {
        "colab": {
          "base_uri": "https://localhost:8080/",
          "height": 447
        },
        "id": "RcH9LekXrw7g",
        "outputId": "766990aa-1632-4e74-f39a-fdae01070041"
      },
      "outputs": [
        {
          "data": {
            "image/png": "[encoded data removed]",
            "text/plain": [
              "<Figure size 640x480 with 1 Axes>"
            ]
          },
          "metadata": {},
          "output_type": "display_data"
        }
      ],
      "source": [
        "sns.histplot(data=dataset[\"glucose\"],kde=True)\n",
        "plt.show()"
      ]
    },
    {
      "cell_type": "markdown",
      "metadata": {},
      "source": [
        "Splitting dataset into test and train for model training."
      ]
    },
    {
      "cell_type": "code",
      "execution_count": 9,
      "metadata": {
        "id": "blTjNYaFs5E4"
      },
      "outputs": [],
      "source": [
        "from sklearn.model_selection import train_test_split\n",
        "\n",
        "predictors = dataset.drop(\"Target\",axis=1)\n",
        "Target = dataset[\"Target\"]\n",
        "\n",
        "X_train,X_test,Y_train,Y_test = train_test_split(predictors,Target,test_size=0.20,random_state=0)"
      ]
    },
    {
      "cell_type": "code",
      "execution_count": 92,
      "metadata": {
        "colab": {
          "base_uri": "https://localhost:8080/"
        },
        "id": "sy5CW8_PtO7F",
        "outputId": "aa7e28bc-73e1-4440-bf45-c5eb1fd4fab6"
      },
      "outputs": [
        {
          "data": {
            "text/plain": [
              "(3390, 9)"
            ]
          },
          "execution_count": 92,
          "metadata": {},
          "output_type": "execute_result"
        }
      ],
      "source": [
        "X_train.shape"
      ]
    },
    {
      "cell_type": "code",
      "execution_count": 93,
      "metadata": {
        "colab": {
          "base_uri": "https://localhost:8080/"
        },
        "id": "3y_c2zhMtUw5",
        "outputId": "0570356e-6661-4ff9-ae8b-e793464d0097"
      },
      "outputs": [
        {
          "data": {
            "text/plain": [
              "(848, 9)"
            ]
          },
          "execution_count": 93,
          "metadata": {},
          "output_type": "execute_result"
        }
      ],
      "source": [
        "X_test.shape"
      ]
    },
    {
      "cell_type": "code",
      "execution_count": 94,
      "metadata": {
        "colab": {
          "base_uri": "https://localhost:8080/"
        },
        "id": "NDiwHOBVtWiv",
        "outputId": "52cd245f-8c0e-4905-ce6a-5d972714e4b1"
      },
      "outputs": [
        {
          "data": {
            "text/plain": [
              "(3390,)"
            ]
          },
          "execution_count": 94,
          "metadata": {},
          "output_type": "execute_result"
        }
      ],
      "source": [
        "Y_train.shape"
      ]
    },
    {
      "cell_type": "code",
      "execution_count": 95,
      "metadata": {
        "colab": {
          "base_uri": "https://localhost:8080/"
        },
        "id": "WgE3RcSEtX0B",
        "outputId": "94de5b6c-28ed-49b8-ba8e-9af62cf88cbd"
      },
      "outputs": [
        {
          "data": {
            "text/plain": [
              "(848,)"
            ]
          },
          "execution_count": 95,
          "metadata": {},
          "output_type": "execute_result"
        }
      ],
      "source": [
        "Y_test.shape"
      ]
    },
    {
      "cell_type": "markdown",
      "metadata": {},
      "source": [
        "Importing accuracy_score for comparison purpose.(Model Fitting)"
      ]
    },
    {
      "cell_type": "code",
      "execution_count": 26,
      "metadata": {
        "id": "EfFA2IvktZNg"
      },
      "outputs": [],
      "source": [
        "from sklearn.metrics import accuracy_score"
      ]
    },
    {
      "cell_type": "markdown",
      "metadata": {},
      "source": [
        "Logistic Regression"
      ]
    },
    {
      "cell_type": "code",
      "execution_count": 61,
      "metadata": {
        "id": "lb1QlH99tbJ-"
      },
      "outputs": [],
      "source": [
        "from sklearn.linear_model import LogisticRegression\n",
        "\n",
        "lr = LogisticRegression()\n",
        "\n",
        "lr.fit(X_train,Y_train)\n",
        "\n",
        "Y_pred_lr = lr.predict(X_test)"
      ]
    },
    {
      "cell_type": "code",
      "execution_count": 62,
      "metadata": {
        "colab": {
          "base_uri": "https://localhost:8080/"
        },
        "id": "RT4uUMRMthdU",
        "outputId": "62926375-d2cc-4453-8e9b-400096665897"
      },
      "outputs": [
        {
          "data": {
            "text/plain": [
              "(848,)"
            ]
          },
          "execution_count": 62,
          "metadata": {},
          "output_type": "execute_result"
        }
      ],
      "source": [
        "Y_pred_lr.shape"
      ]
    },
    {
      "cell_type": "code",
      "execution_count": 63,
      "metadata": {
        "colab": {
          "base_uri": "https://localhost:8080/"
        },
        "id": "w7ZN4RtEtj5c",
        "outputId": "420425f2-e74f-475d-f55a-8051eb980baf"
      },
      "outputs": [
        {
          "name": "stdout",
          "output_type": "stream",
          "text": [
            "The accuracy score achieved using Logistic Regression is: 83.84 %\n"
          ]
        }
      ],
      "source": [
        "score_lr = round(accuracy_score(Y_pred_lr,Y_test)*100,2)\n",
        "\n",
        "print(\"The accuracy score achieved using Logistic Regression is: \"+str(score_lr)+\" %\")"
      ]
    },
    {
      "cell_type": "markdown",
      "metadata": {},
      "source": [
        "Naive Bayes"
      ]
    },
    {
      "cell_type": "code",
      "execution_count": 64,
      "metadata": {
        "id": "sdVaaaMatmJg"
      },
      "outputs": [],
      "source": [
        "from sklearn.naive_bayes import GaussianNB\n",
        "\n",
        "nb = GaussianNB()\n",
        "\n",
        "nb.fit(X_train,Y_train)\n",
        "\n",
        "Y_pred_nb = nb.predict(X_test)"
      ]
    },
    {
      "cell_type": "code",
      "execution_count": 65,
      "metadata": {
        "colab": {
          "base_uri": "https://localhost:8080/"
        },
        "id": "GWNI9vFftoY1",
        "outputId": "a0de39ac-f839-45ac-efc8-d7935ff0c28a"
      },
      "outputs": [
        {
          "data": {
            "text/plain": [
              "(848,)"
            ]
          },
          "execution_count": 65,
          "metadata": {},
          "output_type": "execute_result"
        }
      ],
      "source": [
        "Y_pred_nb.shape"
      ]
    },
    {
      "cell_type": "code",
      "execution_count": 66,
      "metadata": {
        "colab": {
          "base_uri": "https://localhost:8080/"
        },
        "id": "MIpo3llMtp4Z",
        "outputId": "02ce9bd4-e151-4ca8-a628-fe940944ea7c"
      },
      "outputs": [
        {
          "name": "stdout",
          "output_type": "stream",
          "text": [
            "The accuracy score achieved using Naive Bayes is: 82.55 %\n"
          ]
        }
      ],
      "source": [
        "score_nb = round(accuracy_score(Y_pred_nb,Y_test)*100,2)\n",
        "\n",
        "print(\"The accuracy score achieved using Naive Bayes is: \"+str(score_nb)+\" %\")"
      ]
    },
    {
      "cell_type": "markdown",
      "metadata": {},
      "source": [
        "SVM"
      ]
    },
    {
      "cell_type": "code",
      "execution_count": 67,
      "metadata": {
        "id": "8VCQP3Lxtrch"
      },
      "outputs": [],
      "source": [
        "from sklearn import svm\n",
        "\n",
        "sv = svm.SVC(kernel='linear')\n",
        "\n",
        "sv.fit(X_train, Y_train)\n",
        "\n",
        "Y_pred_svm = sv.predict(X_test)"
      ]
    },
    {
      "cell_type": "code",
      "execution_count": 68,
      "metadata": {
        "colab": {
          "base_uri": "https://localhost:8080/"
        },
        "id": "1-ZwPXNzttix",
        "outputId": "8ac52546-2ed1-4692-9ae5-06526234e45a"
      },
      "outputs": [
        {
          "data": {
            "text/plain": [
              "(848,)"
            ]
          },
          "execution_count": 68,
          "metadata": {},
          "output_type": "execute_result"
        }
      ],
      "source": [
        "Y_pred_svm.shape"
      ]
    },
    {
      "cell_type": "code",
      "execution_count": 69,
      "metadata": {
        "colab": {
          "base_uri": "https://localhost:8080/"
        },
        "id": "lcWA3eD8t4DU",
        "outputId": "039ec7da-e221-4e50-8a31-d9bd13eec6fe"
      },
      "outputs": [
        {
          "name": "stdout",
          "output_type": "stream",
          "text": [
            "The accuracy score achieved using Linear SVM is: 83.73 %\n"
          ]
        }
      ],
      "source": [
        "score_svm = round(accuracy_score(Y_pred_svm,Y_test)*100,2)\n",
        "\n",
        "print(\"The accuracy score achieved using Linear SVM is: \"+str(score_svm)+\" %\")"
      ]
    },
    {
      "cell_type": "markdown",
      "metadata": {},
      "source": [
        "K Nearest Neighbors"
      ]
    },
    {
      "cell_type": "code",
      "execution_count": 70,
      "metadata": {
        "id": "n4G_SNNct6Aa"
      },
      "outputs": [],
      "source": [
        "from sklearn.neighbors import KNeighborsClassifier\n",
        "\n",
        "knn = KNeighborsClassifier(n_neighbors=7)\n",
        "knn.fit(X_train,Y_train)\n",
        "Y_pred_knn=knn.predict(X_test)"
      ]
    },
    {
      "cell_type": "code",
      "execution_count": 71,
      "metadata": {
        "colab": {
          "base_uri": "https://localhost:8080/"
        },
        "id": "RKbqbxiat8Wu",
        "outputId": "e23ff7c5-1762-4156-fad2-2ad9a8f9fea2"
      },
      "outputs": [
        {
          "data": {
            "text/plain": [
              "(848,)"
            ]
          },
          "execution_count": 71,
          "metadata": {},
          "output_type": "execute_result"
        }
      ],
      "source": [
        "Y_pred_knn.shape"
      ]
    },
    {
      "cell_type": "code",
      "execution_count": 72,
      "metadata": {
        "colab": {
          "base_uri": "https://localhost:8080/"
        },
        "id": "k2zdi0Kgt9xy",
        "outputId": "7d59af69-a62e-47c3-e704-ecdd8448ae8f"
      },
      "outputs": [
        {
          "name": "stdout",
          "output_type": "stream",
          "text": [
            "The accuracy score achieved using KNN is: 82.55 %\n"
          ]
        }
      ],
      "source": [
        "score_knn = round(accuracy_score(Y_pred_knn,Y_test)*100,2)\n",
        "\n",
        "print(\"The accuracy score achieved using KNN is: \"+str(score_knn)+\" %\")"
      ]
    },
    {
      "cell_type": "markdown",
      "metadata": {},
      "source": [
        "Decision Tree"
      ]
    },
    {
      "cell_type": "code",
      "execution_count": 73,
      "metadata": {
        "id": "bG9hUCeguAJK"
      },
      "outputs": [],
      "source": [
        "from sklearn.tree import DecisionTreeClassifier\n",
        "\n",
        "max_accuracy = 0\n",
        "\n",
        "for x in range(200):\n",
        "    dt = DecisionTreeClassifier(random_state=x)\n",
        "    dt.fit(X_train,Y_train)\n",
        "    Y_pred_dt = dt.predict(X_test)\n",
        "    current_accuracy = round(accuracy_score(Y_pred_dt,Y_test)*100,2)\n",
        "    if(current_accuracy>max_accuracy):\n",
        "        max_accuracy = current_accuracy\n",
        "        best_x = x\n",
        "        \n",
        "dt = DecisionTreeClassifier(random_state=best_x)\n",
        "dt.fit(X_train,Y_train)\n",
        "Y_pred_dt = dt.predict(X_test)"
      ]
    },
    {
      "cell_type": "code",
      "execution_count": 74,
      "metadata": {
        "colab": {
          "base_uri": "https://localhost:8080/"
        },
        "id": "zQ9JIheRuC8w",
        "outputId": "3b45f96b-a87d-4337-a02b-a0d87c02a2c5"
      },
      "outputs": [
        {
          "name": "stdout",
          "output_type": "stream",
          "text": [
            "(848,)\n"
          ]
        }
      ],
      "source": [
        "print(Y_pred_dt.shape)"
      ]
    },
    {
      "cell_type": "code",
      "execution_count": 75,
      "metadata": {
        "colab": {
          "base_uri": "https://localhost:8080/"
        },
        "id": "ADRSy9YDuF-p",
        "outputId": "e12e3c78-43ce-4636-a844-55ae871d6bf7"
      },
      "outputs": [
        {
          "name": "stdout",
          "output_type": "stream",
          "text": [
            "The accuracy score achieved using Decision Tree is: 74.76 %\n"
          ]
        }
      ],
      "source": [
        "score_dt = round(accuracy_score(Y_pred_dt,Y_test)*100,2)\n",
        "\n",
        "print(\"The accuracy score achieved using Decision Tree is: \"+str(score_dt)+\" %\")"
      ]
    },
    {
      "cell_type": "markdown",
      "metadata": {},
      "source": [
        "Random Forest"
      ]
    },
    {
      "cell_type": "code",
      "execution_count": 80,
      "metadata": {},
      "outputs": [],
      "source": [
        "from sklearn.ensemble import RandomForestClassifier\n",
        "\n",
        "max_accuracy = 0\n",
        "\n",
        "for x in range(2000):\n",
        "    rf = RandomForestClassifier(random_state=x)\n",
        "    rf.fit(X_train,Y_train)\n",
        "    Y_pred_rf = rf.predict(X_test)\n",
        "    current_accuracy = round(accuracy_score(Y_pred_rf,Y_test)*100,2)\n",
        "    if(current_accuracy>max_accuracy):\n",
        "        max_accuracy = current_accuracy\n",
        "        best_x = x\n",
        "        \n",
        "rf = RandomForestClassifier(random_state=best_x)\n",
        "rf.fit(X_train,Y_train)\n",
        "Y_pred_rf = rf.predict(X_test)"
      ]
    },
    {
      "cell_type": "code",
      "execution_count": 81,
      "metadata": {},
      "outputs": [
        {
          "data": {
            "text/plain": [
              "(848,)"
            ]
          },
          "execution_count": 81,
          "metadata": {},
          "output_type": "execute_result"
        }
      ],
      "source": [
        "Y_pred_rf.shape"
      ]
    },
    {
      "cell_type": "code",
      "execution_count": 82,
      "metadata": {},
      "outputs": [
        {
          "name": "stdout",
          "output_type": "stream",
          "text": [
            "The accuracy score achieved using Random Forest is: 85.14 %\n"
          ]
        }
      ],
      "source": [
        "score_rf = round(accuracy_score(Y_pred_rf,Y_test)*100,2)\n",
        "\n",
        "print(\"The accuracy score achieved using Random Forest is: \"+str(score_rf)+\" %\")"
      ]
    },
    {
      "cell_type": "markdown",
      "metadata": {},
      "source": [
        "XGBoost"
      ]
    },
    {
      "cell_type": "code",
      "execution_count": 76,
      "metadata": {
        "id": "f_CaQ3tfudgB"
      },
      "outputs": [],
      "source": [
        "import xgboost as xgb\n",
        "\n",
        "xgb_model = xgb.XGBClassifier(objective=\"binary:logistic\", random_state=42)\n",
        "xgb_model.fit(X_train, Y_train)\n",
        "\n",
        "Y_pred_xgb = xgb_model.predict(X_test)"
      ]
    },
    {
      "cell_type": "code",
      "execution_count": 77,
      "metadata": {
        "colab": {
          "base_uri": "https://localhost:8080/"
        },
        "id": "L_dpk-5Gu11L",
        "outputId": "552ec23b-7f36-43e6-8ca7-c730e02b9d3c"
      },
      "outputs": [
        {
          "data": {
            "text/plain": [
              "(848,)"
            ]
          },
          "execution_count": 77,
          "metadata": {},
          "output_type": "execute_result"
        }
      ],
      "source": [
        "Y_pred_xgb.shape"
      ]
    },
    {
      "cell_type": "code",
      "execution_count": 78,
      "metadata": {
        "colab": {
          "base_uri": "https://localhost:8080/"
        },
        "id": "3whYniSGu4MV",
        "outputId": "949c9a09-b0ea-4694-d72a-059be2d7eefb"
      },
      "outputs": [
        {
          "name": "stdout",
          "output_type": "stream",
          "text": [
            "The accuracy score achieved using XGBoost is: 82.08 %\n"
          ]
        }
      ],
      "source": [
        "score_xgb = round(accuracy_score(Y_pred_xgb,Y_test)*100,2)\n",
        "\n",
        "print(\"The accuracy score achieved using XGBoost is: \"+str(score_xgb)+\" %\")"
      ]
    },
    {
      "cell_type": "markdown",
      "metadata": {},
      "source": [
        "Neural Network"
      ]
    },
    {
      "cell_type": "code",
      "execution_count": 12,
      "metadata": {
        "id": "EjxAZrnlu5tt"
      },
      "outputs": [],
      "source": [
        "from keras.models import Sequential\n",
        "from keras.layers import Dense\n",
        "from keras import optimizers"
      ]
    },
    {
      "cell_type": "code",
      "execution_count": 40,
      "metadata": {},
      "outputs": [],
      "source": [
        "#setting up a neural network\n",
        "model = Sequential()\n",
        "model.add(Dense(11, activation='relu', input_shape=(9,)))\n",
        "model.add(Dense(1, activation='relu'))\n",
        "model.add(Dense(1))\n",
        "\n",
        "model.compile(optimizer=optimizers.RMSprop(learning_rate=0.01),\n",
        "                loss='mse',\n",
        "                metrics=['mae'])\n",
        "#"
      ]
    },
    {
      "cell_type": "code",
      "execution_count": 53,
      "metadata": {},
      "outputs": [
        {
          "name": "stdout",
          "output_type": "stream",
          "text": [
            "Epoch 1/300\n",
            "170/170 [==============================] - 0s 1ms/step - loss: 0.1274 - mae: 0.2552 - val_loss: 0.1364 - val_mae: 0.2808\n",
            "Epoch 2/300\n",
            "170/170 [==============================] - 0s 1ms/step - loss: 0.1276 - mae: 0.2559 - val_loss: 0.1384 - val_mae: 0.2409\n",
            "Epoch 3/300\n",
            "170/170 [==============================] - 0s 1ms/step - loss: 0.1276 - mae: 0.2513 - val_loss: 0.1370 - val_mae: 0.2544\n",
            "Epoch 4/300\n",
            "170/170 [==============================] - 0s 1ms/step - loss: 0.1273 - mae: 0.2527 - val_loss: 0.1363 - val_mae: 0.2704\n",
            "Epoch 5/300\n",
            "170/170 [==============================] - 0s 1ms/step - loss: 0.1273 - mae: 0.2529 - val_loss: 0.1367 - val_mae: 0.2863\n",
            "Epoch 6/300\n",
            "170/170 [==============================] - 0s 1000us/step - loss: 0.1271 - mae: 0.2534 - val_loss: 0.1366 - val_mae: 0.2852\n",
            "Epoch 7/300\n",
            "170/170 [==============================] - 0s 1ms/step - loss: 0.1275 - mae: 0.2549 - val_loss: 0.1364 - val_mae: 0.2656\n",
            "Epoch 8/300\n",
            "170/170 [==============================] - 0s 1ms/step - loss: 0.1274 - mae: 0.2535 - val_loss: 0.1363 - val_mae: 0.2677\n",
            "Epoch 9/300\n",
            "170/170 [==============================] - 0s 1ms/step - loss: 0.1273 - mae: 0.2549 - val_loss: 0.1387 - val_mae: 0.2393\n",
            "Epoch 10/300\n",
            "170/170 [==============================] - 0s 1ms/step - loss: 0.1276 - mae: 0.2536 - val_loss: 0.1372 - val_mae: 0.2514\n",
            "Epoch 11/300\n",
            "170/170 [==============================] - 0s 1ms/step - loss: 0.1275 - mae: 0.2527 - val_loss: 0.1363 - val_mae: 0.2671\n",
            "Epoch 12/300\n",
            "170/170 [==============================] - 0s 1ms/step - loss: 0.1272 - mae: 0.2515 - val_loss: 0.1382 - val_mae: 0.3020\n",
            "Epoch 13/300\n",
            "170/170 [==============================] - 0s 1ms/step - loss: 0.1274 - mae: 0.2557 - val_loss: 0.1364 - val_mae: 0.2646\n",
            "Epoch 14/300\n",
            "170/170 [==============================] - 0s 1ms/step - loss: 0.1274 - mae: 0.2549 - val_loss: 0.1380 - val_mae: 0.2445\n",
            "Epoch 15/300\n",
            "170/170 [==============================] - 0s 1ms/step - loss: 0.1272 - mae: 0.2545 - val_loss: 0.1411 - val_mae: 0.2256\n",
            "Epoch 16/300\n",
            "170/170 [==============================] - 0s 1ms/step - loss: 0.1277 - mae: 0.2520 - val_loss: 0.1370 - val_mae: 0.2536\n",
            "Epoch 17/300\n",
            "170/170 [==============================] - 0s 1ms/step - loss: 0.1274 - mae: 0.2540 - val_loss: 0.1363 - val_mae: 0.2666\n",
            "Epoch 18/300\n",
            "170/170 [==============================] - 0s 1ms/step - loss: 0.1276 - mae: 0.2542 - val_loss: 0.1363 - val_mae: 0.2693\n",
            "Epoch 19/300\n",
            "170/170 [==============================] - 0s 1ms/step - loss: 0.1272 - mae: 0.2542 - val_loss: 0.1367 - val_mae: 0.2581\n",
            "Epoch 20/300\n",
            "170/170 [==============================] - 0s 991us/step - loss: 0.1274 - mae: 0.2538 - val_loss: 0.1370 - val_mae: 0.2541\n",
            "Epoch 21/300\n",
            "170/170 [==============================] - 0s 1ms/step - loss: 0.1274 - mae: 0.2541 - val_loss: 0.1373 - val_mae: 0.2511\n",
            "Epoch 22/300\n",
            "170/170 [==============================] - 0s 991us/step - loss: 0.1274 - mae: 0.2530 - val_loss: 0.1363 - val_mae: 0.2733\n",
            "Epoch 23/300\n",
            "170/170 [==============================] - 0s 1ms/step - loss: 0.1275 - mae: 0.2540 - val_loss: 0.1368 - val_mae: 0.2563\n",
            "Epoch 24/300\n",
            "170/170 [==============================] - 0s 1ms/step - loss: 0.1273 - mae: 0.2538 - val_loss: 0.1369 - val_mae: 0.2551\n",
            "Epoch 25/300\n",
            "170/170 [==============================] - 0s 1ms/step - loss: 0.1275 - mae: 0.2534 - val_loss: 0.1375 - val_mae: 0.2484\n",
            "Epoch 26/300\n",
            "170/170 [==============================] - 0s 1ms/step - loss: 0.1275 - mae: 0.2536 - val_loss: 0.1365 - val_mae: 0.2617\n",
            "Epoch 27/300\n",
            "170/170 [==============================] - 0s 1ms/step - loss: 0.1274 - mae: 0.2523 - val_loss: 0.1363 - val_mae: 0.2701\n",
            "Epoch 28/300\n",
            "170/170 [==============================] - 0s 1ms/step - loss: 0.1274 - mae: 0.2543 - val_loss: 0.1367 - val_mae: 0.2583\n",
            "Epoch 29/300\n",
            "170/170 [==============================] - 0s 1ms/step - loss: 0.1276 - mae: 0.2534 - val_loss: 0.1372 - val_mae: 0.2515\n",
            "Epoch 30/300\n",
            "170/170 [==============================] - 0s 1ms/step - loss: 0.1275 - mae: 0.2526 - val_loss: 0.1363 - val_mae: 0.2781\n",
            "Epoch 31/300\n",
            "170/170 [==============================] - 0s 976us/step - loss: 0.1275 - mae: 0.2544 - val_loss: 0.1364 - val_mae: 0.2652\n",
            "Epoch 32/300\n",
            "170/170 [==============================] - 0s 1ms/step - loss: 0.1275 - mae: 0.2538 - val_loss: 0.1367 - val_mae: 0.2587\n",
            "Epoch 33/300\n",
            "170/170 [==============================] - 0s 1ms/step - loss: 0.1275 - mae: 0.2530 - val_loss: 0.1363 - val_mae: 0.2718\n",
            "Epoch 34/300\n",
            "170/170 [==============================] - 0s 1ms/step - loss: 0.1275 - mae: 0.2536 - val_loss: 0.1363 - val_mae: 0.2756\n",
            "Epoch 35/300\n",
            "170/170 [==============================] - 0s 1ms/step - loss: 0.1274 - mae: 0.2532 - val_loss: 0.1367 - val_mae: 0.2871\n",
            "Epoch 36/300\n",
            "170/170 [==============================] - 0s 1ms/step - loss: 0.1274 - mae: 0.2534 - val_loss: 0.1370 - val_mae: 0.2914\n",
            "Epoch 37/300\n",
            "170/170 [==============================] - 0s 1ms/step - loss: 0.1275 - mae: 0.2540 - val_loss: 0.1364 - val_mae: 0.2792\n",
            "Epoch 38/300\n",
            "170/170 [==============================] - 0s 1ms/step - loss: 0.1274 - mae: 0.2543 - val_loss: 0.1364 - val_mae: 0.2642\n",
            "Epoch 39/300\n",
            "170/170 [==============================] - 0s 999us/step - loss: 0.1276 - mae: 0.2544 - val_loss: 0.1363 - val_mae: 0.2708\n",
            "Epoch 40/300\n",
            "170/170 [==============================] - 0s 994us/step - loss: 0.1274 - mae: 0.2545 - val_loss: 0.1373 - val_mae: 0.2509\n",
            "Epoch 41/300\n",
            "170/170 [==============================] - 0s 1ms/step - loss: 0.1274 - mae: 0.2538 - val_loss: 0.1385 - val_mae: 0.2405\n",
            "Epoch 42/300\n",
            "170/170 [==============================] - 0s 1ms/step - loss: 0.1274 - mae: 0.2527 - val_loss: 0.1365 - val_mae: 0.2628\n",
            "Epoch 43/300\n",
            "170/170 [==============================] - 0s 1ms/step - loss: 0.1272 - mae: 0.2522 - val_loss: 0.1364 - val_mae: 0.2646\n",
            "Epoch 44/300\n",
            "170/170 [==============================] - 0s 1ms/step - loss: 0.1273 - mae: 0.2531 - val_loss: 0.1363 - val_mae: 0.2672\n",
            "Epoch 45/300\n",
            "170/170 [==============================] - 0s 1ms/step - loss: 0.1273 - mae: 0.2539 - val_loss: 0.1366 - val_mae: 0.2608\n",
            "Epoch 46/300\n",
            "170/170 [==============================] - 0s 1ms/step - loss: 0.1272 - mae: 0.2550 - val_loss: 0.1397 - val_mae: 0.2331\n",
            "Epoch 47/300\n",
            "170/170 [==============================] - 0s 1ms/step - loss: 0.1277 - mae: 0.2528 - val_loss: 0.1364 - val_mae: 0.2630\n",
            "Epoch 48/300\n",
            "170/170 [==============================] - 0s 1ms/step - loss: 0.1274 - mae: 0.2530 - val_loss: 0.1365 - val_mae: 0.2833\n",
            "Epoch 49/300\n",
            "170/170 [==============================] - 0s 1ms/step - loss: 0.1276 - mae: 0.2557 - val_loss: 0.1365 - val_mae: 0.2626\n",
            "Epoch 50/300\n",
            "170/170 [==============================] - 0s 1ms/step - loss: 0.1273 - mae: 0.2536 - val_loss: 0.1370 - val_mae: 0.2547\n",
            "Epoch 51/300\n",
            "170/170 [==============================] - 0s 1ms/step - loss: 0.1274 - mae: 0.2545 - val_loss: 0.1380 - val_mae: 0.2444\n",
            "Epoch 52/300\n",
            "170/170 [==============================] - 0s 1ms/step - loss: 0.1272 - mae: 0.2531 - val_loss: 0.1371 - val_mae: 0.2526\n",
            "Epoch 53/300\n",
            "170/170 [==============================] - 0s 1ms/step - loss: 0.1274 - mae: 0.2518 - val_loss: 0.1364 - val_mae: 0.2799\n",
            "Epoch 54/300\n",
            "170/170 [==============================] - 0s 1ms/step - loss: 0.1274 - mae: 0.2522 - val_loss: 0.1372 - val_mae: 0.2931\n",
            "Epoch 55/300\n",
            "170/170 [==============================] - 0s 1ms/step - loss: 0.1275 - mae: 0.2543 - val_loss: 0.1363 - val_mae: 0.2772\n",
            "Epoch 56/300\n",
            "170/170 [==============================] - 0s 1ms/step - loss: 0.1274 - mae: 0.2529 - val_loss: 0.1364 - val_mae: 0.2809\n",
            "Epoch 57/300\n",
            "170/170 [==============================] - 0s 1ms/step - loss: 0.1273 - mae: 0.2531 - val_loss: 0.1373 - val_mae: 0.2941\n",
            "Epoch 58/300\n",
            "170/170 [==============================] - 0s 1ms/step - loss: 0.1275 - mae: 0.2548 - val_loss: 0.1367 - val_mae: 0.2873\n",
            "Epoch 59/300\n",
            "170/170 [==============================] - 0s 1ms/step - loss: 0.1276 - mae: 0.2553 - val_loss: 0.1363 - val_mae: 0.2703\n",
            "Epoch 60/300\n",
            "170/170 [==============================] - 0s 1ms/step - loss: 0.1275 - mae: 0.2542 - val_loss: 0.1363 - val_mae: 0.2695\n",
            "Epoch 61/300\n",
            "170/170 [==============================] - 0s 1ms/step - loss: 0.1274 - mae: 0.2532 - val_loss: 0.1365 - val_mae: 0.2827\n",
            "Epoch 62/300\n",
            "170/170 [==============================] - 0s 1ms/step - loss: 0.1275 - mae: 0.2533 - val_loss: 0.1363 - val_mae: 0.2780\n",
            "Epoch 63/300\n",
            "170/170 [==============================] - 0s 1ms/step - loss: 0.1272 - mae: 0.2560 - val_loss: 0.1386 - val_mae: 0.2398\n",
            "Epoch 64/300\n",
            "170/170 [==============================] - 0s 1ms/step - loss: 0.1275 - mae: 0.2514 - val_loss: 0.1368 - val_mae: 0.2564\n",
            "Epoch 65/300\n",
            "170/170 [==============================] - 0s 1ms/step - loss: 0.1275 - mae: 0.2536 - val_loss: 0.1363 - val_mae: 0.2668\n",
            "Epoch 66/300\n",
            "170/170 [==============================] - 0s 1ms/step - loss: 0.1274 - mae: 0.2553 - val_loss: 0.1381 - val_mae: 0.2434\n",
            "Epoch 67/300\n",
            "170/170 [==============================] - 0s 1ms/step - loss: 0.1275 - mae: 0.2522 - val_loss: 0.1363 - val_mae: 0.2719\n",
            "Epoch 68/300\n",
            "170/170 [==============================] - 0s 1ms/step - loss: 0.1275 - mae: 0.2549 - val_loss: 0.1374 - val_mae: 0.2501\n",
            "Epoch 69/300\n",
            "170/170 [==============================] - 0s 1ms/step - loss: 0.1274 - mae: 0.2535 - val_loss: 0.1367 - val_mae: 0.2582\n",
            "Epoch 70/300\n",
            "170/170 [==============================] - 0s 1ms/step - loss: 0.1275 - mae: 0.2539 - val_loss: 0.1363 - val_mae: 0.2753\n",
            "Epoch 71/300\n",
            "170/170 [==============================] - 0s 1ms/step - loss: 0.1273 - mae: 0.2543 - val_loss: 0.1368 - val_mae: 0.2568\n",
            "Epoch 72/300\n",
            "170/170 [==============================] - 0s 1000us/step - loss: 0.1276 - mae: 0.2531 - val_loss: 0.1367 - val_mae: 0.2577\n",
            "Epoch 73/300\n",
            "170/170 [==============================] - 0s 1ms/step - loss: 0.1275 - mae: 0.2547 - val_loss: 0.1373 - val_mae: 0.2505\n",
            "Epoch 74/300\n",
            "170/170 [==============================] - 0s 991us/step - loss: 0.1274 - mae: 0.2530 - val_loss: 0.1367 - val_mae: 0.2577\n",
            "Epoch 75/300\n",
            "170/170 [==============================] - 0s 995us/step - loss: 0.1271 - mae: 0.2541 - val_loss: 0.1397 - val_mae: 0.2331\n",
            "Epoch 76/300\n",
            "170/170 [==============================] - 0s 1ms/step - loss: 0.1275 - mae: 0.2523 - val_loss: 0.1365 - val_mae: 0.2617\n",
            "Epoch 77/300\n",
            "170/170 [==============================] - 0s 1ms/step - loss: 0.1274 - mae: 0.2525 - val_loss: 0.1374 - val_mae: 0.2954\n",
            "Epoch 78/300\n",
            "170/170 [==============================] - 0s 1ms/step - loss: 0.1273 - mae: 0.2551 - val_loss: 0.1367 - val_mae: 0.2589\n",
            "Epoch 79/300\n",
            "170/170 [==============================] - 0s 1ms/step - loss: 0.1274 - mae: 0.2531 - val_loss: 0.1371 - val_mae: 0.2528\n",
            "Epoch 80/300\n",
            "170/170 [==============================] - 0s 998us/step - loss: 0.1274 - mae: 0.2523 - val_loss: 0.1366 - val_mae: 0.2597\n",
            "Epoch 81/300\n",
            "170/170 [==============================] - 0s 995us/step - loss: 0.1276 - mae: 0.2538 - val_loss: 0.1364 - val_mae: 0.2633\n",
            "Epoch 82/300\n",
            "170/170 [==============================] - 0s 1ms/step - loss: 0.1274 - mae: 0.2550 - val_loss: 0.1420 - val_mae: 0.2214\n",
            "Epoch 83/300\n",
            "170/170 [==============================] - 0s 989us/step - loss: 0.1275 - mae: 0.2513 - val_loss: 0.1377 - val_mae: 0.2466\n",
            "Epoch 84/300\n",
            "170/170 [==============================] - 0s 993us/step - loss: 0.1273 - mae: 0.2530 - val_loss: 0.1363 - val_mae: 0.2667\n",
            "Epoch 85/300\n",
            "170/170 [==============================] - 0s 1ms/step - loss: 0.1273 - mae: 0.2546 - val_loss: 0.1375 - val_mae: 0.2490\n",
            "Epoch 86/300\n",
            "170/170 [==============================] - 0s 996us/step - loss: 0.1273 - mae: 0.2536 - val_loss: 0.1389 - val_mae: 0.2379\n",
            "Epoch 87/300\n",
            "170/170 [==============================] - 0s 983us/step - loss: 0.1273 - mae: 0.2519 - val_loss: 0.1363 - val_mae: 0.2687\n",
            "Epoch 88/300\n",
            "170/170 [==============================] - 0s 990us/step - loss: 0.1276 - mae: 0.2542 - val_loss: 0.1376 - val_mae: 0.2480\n",
            "Epoch 89/300\n",
            "170/170 [==============================] - 0s 999us/step - loss: 0.1275 - mae: 0.2524 - val_loss: 0.1365 - val_mae: 0.2626\n",
            "Epoch 90/300\n",
            "170/170 [==============================] - 0s 985us/step - loss: 0.1274 - mae: 0.2539 - val_loss: 0.1383 - val_mae: 0.2418\n",
            "Epoch 91/300\n",
            "170/170 [==============================] - 0s 985us/step - loss: 0.1274 - mae: 0.2537 - val_loss: 0.1379 - val_mae: 0.2451\n",
            "Epoch 92/300\n",
            "170/170 [==============================] - 0s 1ms/step - loss: 0.1275 - mae: 0.2536 - val_loss: 0.1373 - val_mae: 0.2506\n",
            "Epoch 93/300\n",
            "170/170 [==============================] - 0s 1ms/step - loss: 0.1275 - mae: 0.2538 - val_loss: 0.1376 - val_mae: 0.2478\n",
            "Epoch 94/300\n",
            "170/170 [==============================] - 0s 1ms/step - loss: 0.1274 - mae: 0.2521 - val_loss: 0.1363 - val_mae: 0.2745\n",
            "Epoch 95/300\n",
            "170/170 [==============================] - 0s 996us/step - loss: 0.1275 - mae: 0.2543 - val_loss: 0.1369 - val_mae: 0.2552\n",
            "Epoch 96/300\n",
            "170/170 [==============================] - 0s 1ms/step - loss: 0.1274 - mae: 0.2536 - val_loss: 0.1371 - val_mae: 0.2526\n",
            "Epoch 97/300\n",
            "170/170 [==============================] - 0s 992us/step - loss: 0.1274 - mae: 0.2539 - val_loss: 0.1363 - val_mae: 0.2690\n",
            "Epoch 98/300\n",
            "170/170 [==============================] - 0s 1ms/step - loss: 0.1274 - mae: 0.2539 - val_loss: 0.1374 - val_mae: 0.2493\n",
            "Epoch 99/300\n",
            "170/170 [==============================] - 0s 991us/step - loss: 0.1275 - mae: 0.2526 - val_loss: 0.1365 - val_mae: 0.2618\n",
            "Epoch 100/300\n",
            "170/170 [==============================] - 0s 1ms/step - loss: 0.1273 - mae: 0.2545 - val_loss: 0.1389 - val_mae: 0.2378\n",
            "Epoch 101/300\n",
            "170/170 [==============================] - 0s 978us/step - loss: 0.1275 - mae: 0.2526 - val_loss: 0.1363 - val_mae: 0.2783\n",
            "Epoch 102/300\n",
            "170/170 [==============================] - 0s 985us/step - loss: 0.1274 - mae: 0.2548 - val_loss: 0.1371 - val_mae: 0.2530\n",
            "Epoch 103/300\n",
            "170/170 [==============================] - 0s 973us/step - loss: 0.1275 - mae: 0.2546 - val_loss: 0.1376 - val_mae: 0.2474\n",
            "Epoch 104/300\n",
            "170/170 [==============================] - 0s 978us/step - loss: 0.1274 - mae: 0.2521 - val_loss: 0.1364 - val_mae: 0.2814\n",
            "Epoch 105/300\n",
            "170/170 [==============================] - 0s 982us/step - loss: 0.1274 - mae: 0.2533 - val_loss: 0.1364 - val_mae: 0.2637\n",
            "Epoch 106/300\n",
            "170/170 [==============================] - 0s 986us/step - loss: 0.1274 - mae: 0.2531 - val_loss: 0.1363 - val_mae: 0.2687\n",
            "Epoch 107/300\n",
            "170/170 [==============================] - 0s 976us/step - loss: 0.1273 - mae: 0.2527 - val_loss: 0.1363 - val_mae: 0.2668\n",
            "Epoch 108/300\n",
            "170/170 [==============================] - 0s 989us/step - loss: 0.1271 - mae: 0.2525 - val_loss: 0.1383 - val_mae: 0.2422\n",
            "Epoch 109/300\n",
            "170/170 [==============================] - 0s 1ms/step - loss: 0.1275 - mae: 0.2519 - val_loss: 0.1366 - val_mae: 0.2596\n",
            "Epoch 110/300\n",
            "170/170 [==============================] - 0s 986us/step - loss: 0.1276 - mae: 0.2542 - val_loss: 0.1371 - val_mae: 0.2527\n",
            "Epoch 111/300\n",
            "170/170 [==============================] - 0s 1ms/step - loss: 0.1274 - mae: 0.2526 - val_loss: 0.1368 - val_mae: 0.2567\n",
            "Epoch 112/300\n",
            "170/170 [==============================] - 0s 994us/step - loss: 0.1274 - mae: 0.2536 - val_loss: 0.1363 - val_mae: 0.2758\n",
            "Epoch 113/300\n",
            "170/170 [==============================] - 0s 989us/step - loss: 0.1272 - mae: 0.2548 - val_loss: 0.1364 - val_mae: 0.2654\n",
            "Epoch 114/300\n",
            "170/170 [==============================] - 0s 988us/step - loss: 0.1277 - mae: 0.2527 - val_loss: 0.1363 - val_mae: 0.2701\n",
            "Epoch 115/300\n",
            "170/170 [==============================] - 0s 991us/step - loss: 0.1274 - mae: 0.2516 - val_loss: 0.1376 - val_mae: 0.2974\n",
            "Epoch 116/300\n",
            "170/170 [==============================] - 0s 999us/step - loss: 0.1276 - mae: 0.2568 - val_loss: 0.1370 - val_mae: 0.2545\n",
            "Epoch 117/300\n",
            "170/170 [==============================] - 0s 1000us/step - loss: 0.1274 - mae: 0.2530 - val_loss: 0.1363 - val_mae: 0.2664\n",
            "Epoch 118/300\n",
            "170/170 [==============================] - 0s 989us/step - loss: 0.1276 - mae: 0.2540 - val_loss: 0.1373 - val_mae: 0.2511\n",
            "Epoch 119/300\n",
            "170/170 [==============================] - 0s 994us/step - loss: 0.1275 - mae: 0.2532 - val_loss: 0.1368 - val_mae: 0.2564\n",
            "Epoch 120/300\n",
            "170/170 [==============================] - 0s 989us/step - loss: 0.1275 - mae: 0.2532 - val_loss: 0.1367 - val_mae: 0.2581\n",
            "Epoch 121/300\n",
            "170/170 [==============================] - 0s 983us/step - loss: 0.1276 - mae: 0.2533 - val_loss: 0.1363 - val_mae: 0.2692\n",
            "Epoch 122/300\n",
            "170/170 [==============================] - 0s 986us/step - loss: 0.1276 - mae: 0.2537 - val_loss: 0.1363 - val_mae: 0.2688\n",
            "Epoch 123/300\n",
            "170/170 [==============================] - 0s 1ms/step - loss: 0.1275 - mae: 0.2540 - val_loss: 0.1363 - val_mae: 0.2675\n",
            "Epoch 124/300\n",
            "170/170 [==============================] - 0s 1ms/step - loss: 0.1274 - mae: 0.2537 - val_loss: 0.1367 - val_mae: 0.2589\n",
            "Epoch 125/300\n",
            "170/170 [==============================] - 0s 992us/step - loss: 0.1273 - mae: 0.2543 - val_loss: 0.1392 - val_mae: 0.2361\n",
            "Epoch 126/300\n",
            "170/170 [==============================] - 0s 991us/step - loss: 0.1276 - mae: 0.2531 - val_loss: 0.1369 - val_mae: 0.2553\n",
            "Epoch 127/300\n",
            "170/170 [==============================] - 0s 987us/step - loss: 0.1275 - mae: 0.2538 - val_loss: 0.1369 - val_mae: 0.2554\n",
            "Epoch 128/300\n",
            "170/170 [==============================] - 0s 978us/step - loss: 0.1272 - mae: 0.2536 - val_loss: 0.1374 - val_mae: 0.2497\n",
            "Epoch 129/300\n",
            "170/170 [==============================] - 0s 1ms/step - loss: 0.1275 - mae: 0.2516 - val_loss: 0.1363 - val_mae: 0.2698\n",
            "Epoch 130/300\n",
            "170/170 [==============================] - 0s 989us/step - loss: 0.1274 - mae: 0.2538 - val_loss: 0.1373 - val_mae: 0.2511\n",
            "Epoch 131/300\n",
            "170/170 [==============================] - 0s 1ms/step - loss: 0.1274 - mae: 0.2533 - val_loss: 0.1363 - val_mae: 0.2664\n",
            "Epoch 132/300\n",
            "170/170 [==============================] - 0s 995us/step - loss: 0.1274 - mae: 0.2522 - val_loss: 0.1366 - val_mae: 0.2843\n",
            "Epoch 133/300\n",
            "170/170 [==============================] - 0s 992us/step - loss: 0.1273 - mae: 0.2540 - val_loss: 0.1380 - val_mae: 0.2447\n",
            "Epoch 134/300\n",
            "170/170 [==============================] - 0s 1ms/step - loss: 0.1275 - mae: 0.2517 - val_loss: 0.1364 - val_mae: 0.2801\n",
            "Epoch 135/300\n",
            "170/170 [==============================] - 0s 1000us/step - loss: 0.1277 - mae: 0.2557 - val_loss: 0.1366 - val_mae: 0.2606\n",
            "Epoch 136/300\n",
            "170/170 [==============================] - 0s 1ms/step - loss: 0.1273 - mae: 0.2542 - val_loss: 0.1380 - val_mae: 0.2444\n",
            "Epoch 137/300\n",
            "170/170 [==============================] - 0s 1ms/step - loss: 0.1272 - mae: 0.2518 - val_loss: 0.1364 - val_mae: 0.2802\n",
            "Epoch 138/300\n",
            "170/170 [==============================] - 0s 999us/step - loss: 0.1274 - mae: 0.2534 - val_loss: 0.1363 - val_mae: 0.2778\n",
            "Epoch 139/300\n",
            "170/170 [==============================] - 0s 1ms/step - loss: 0.1274 - mae: 0.2563 - val_loss: 0.1388 - val_mae: 0.2383\n",
            "Epoch 140/300\n",
            "170/170 [==============================] - 0s 999us/step - loss: 0.1275 - mae: 0.2533 - val_loss: 0.1382 - val_mae: 0.2425\n",
            "Epoch 141/300\n",
            "170/170 [==============================] - 0s 1ms/step - loss: 0.1274 - mae: 0.2535 - val_loss: 0.1370 - val_mae: 0.2545\n",
            "Epoch 142/300\n",
            "170/170 [==============================] - 0s 995us/step - loss: 0.1275 - mae: 0.2544 - val_loss: 0.1366 - val_mae: 0.2606\n",
            "Epoch 143/300\n",
            "170/170 [==============================] - 0s 988us/step - loss: 0.1275 - mae: 0.2519 - val_loss: 0.1379 - val_mae: 0.2998\n",
            "Epoch 144/300\n",
            "170/170 [==============================] - 0s 975us/step - loss: 0.1277 - mae: 0.2553 - val_loss: 0.1363 - val_mae: 0.2748\n",
            "Epoch 145/300\n",
            "170/170 [==============================] - 0s 1ms/step - loss: 0.1276 - mae: 0.2548 - val_loss: 0.1364 - val_mae: 0.2639\n",
            "Epoch 146/300\n",
            "170/170 [==============================] - 0s 988us/step - loss: 0.1275 - mae: 0.2525 - val_loss: 0.1364 - val_mae: 0.2794\n",
            "Epoch 147/300\n",
            "170/170 [==============================] - 0s 1ms/step - loss: 0.1273 - mae: 0.2541 - val_loss: 0.1365 - val_mae: 0.2612\n",
            "Epoch 148/300\n",
            "170/170 [==============================] - 0s 984us/step - loss: 0.1274 - mae: 0.2528 - val_loss: 0.1365 - val_mae: 0.2825\n",
            "Epoch 149/300\n",
            "170/170 [==============================] - 0s 1ms/step - loss: 0.1275 - mae: 0.2549 - val_loss: 0.1369 - val_mae: 0.2551\n",
            "Epoch 150/300\n",
            "170/170 [==============================] - 0s 1ms/step - loss: 0.1275 - mae: 0.2528 - val_loss: 0.1364 - val_mae: 0.2647\n",
            "Epoch 151/300\n",
            "170/170 [==============================] - 0s 1ms/step - loss: 0.1275 - mae: 0.2526 - val_loss: 0.1363 - val_mae: 0.2758\n",
            "Epoch 152/300\n",
            "170/170 [==============================] - 0s 1ms/step - loss: 0.1275 - mae: 0.2544 - val_loss: 0.1363 - val_mae: 0.2773\n",
            "Epoch 153/300\n",
            "170/170 [==============================] - 0s 1ms/step - loss: 0.1274 - mae: 0.2539 - val_loss: 0.1366 - val_mae: 0.2595\n",
            "Epoch 154/300\n",
            "170/170 [==============================] - 0s 1ms/step - loss: 0.1275 - mae: 0.2529 - val_loss: 0.1363 - val_mae: 0.2782\n",
            "Epoch 155/300\n",
            "170/170 [==============================] - 0s 1ms/step - loss: 0.1273 - mae: 0.2531 - val_loss: 0.1368 - val_mae: 0.2884\n",
            "Epoch 156/300\n",
            "170/170 [==============================] - 0s 995us/step - loss: 0.1274 - mae: 0.2544 - val_loss: 0.1365 - val_mae: 0.2615\n",
            "Epoch 157/300\n",
            "170/170 [==============================] - 0s 990us/step - loss: 0.1274 - mae: 0.2532 - val_loss: 0.1363 - val_mae: 0.2778\n",
            "Epoch 158/300\n",
            "170/170 [==============================] - 0s 1ms/step - loss: 0.1274 - mae: 0.2528 - val_loss: 0.1374 - val_mae: 0.2951\n",
            "Epoch 159/300\n",
            "170/170 [==============================] - 0s 1ms/step - loss: 0.1276 - mae: 0.2560 - val_loss: 0.1364 - val_mae: 0.2631\n",
            "Epoch 160/300\n",
            "170/170 [==============================] - 0s 972us/step - loss: 0.1275 - mae: 0.2552 - val_loss: 0.1385 - val_mae: 0.2404\n",
            "Epoch 161/300\n",
            "170/170 [==============================] - 0s 990us/step - loss: 0.1274 - mae: 0.2527 - val_loss: 0.1378 - val_mae: 0.2460\n",
            "Epoch 162/300\n",
            "170/170 [==============================] - 0s 1ms/step - loss: 0.1272 - mae: 0.2539 - val_loss: 0.1378 - val_mae: 0.2456\n",
            "Epoch 163/300\n",
            "170/170 [==============================] - 0s 1ms/step - loss: 0.1275 - mae: 0.2514 - val_loss: 0.1364 - val_mae: 0.2796\n",
            "Epoch 164/300\n",
            "170/170 [==============================] - 0s 1ms/step - loss: 0.1275 - mae: 0.2538 - val_loss: 0.1363 - val_mae: 0.2690\n",
            "Epoch 165/300\n",
            "170/170 [==============================] - 0s 1ms/step - loss: 0.1273 - mae: 0.2541 - val_loss: 0.1366 - val_mae: 0.2595\n",
            "Epoch 166/300\n",
            "170/170 [==============================] - 0s 1ms/step - loss: 0.1272 - mae: 0.2525 - val_loss: 0.1364 - val_mae: 0.2817\n",
            "Epoch 167/300\n",
            "170/170 [==============================] - 0s 1ms/step - loss: 0.1275 - mae: 0.2544 - val_loss: 0.1363 - val_mae: 0.2697\n",
            "Epoch 168/300\n",
            "170/170 [==============================] - 0s 1ms/step - loss: 0.1275 - mae: 0.2548 - val_loss: 0.1371 - val_mae: 0.2529\n",
            "Epoch 169/300\n",
            "170/170 [==============================] - 0s 1ms/step - loss: 0.1276 - mae: 0.2525 - val_loss: 0.1365 - val_mae: 0.2617\n",
            "Epoch 170/300\n",
            "170/170 [==============================] - 0s 1ms/step - loss: 0.1275 - mae: 0.2536 - val_loss: 0.1370 - val_mae: 0.2544\n",
            "Epoch 171/300\n",
            "170/170 [==============================] - 0s 1ms/step - loss: 0.1274 - mae: 0.2528 - val_loss: 0.1363 - val_mae: 0.2776\n",
            "Epoch 172/300\n",
            "170/170 [==============================] - 0s 1ms/step - loss: 0.1274 - mae: 0.2549 - val_loss: 0.1377 - val_mae: 0.2472\n",
            "Epoch 173/300\n",
            "170/170 [==============================] - 0s 1ms/step - loss: 0.1275 - mae: 0.2531 - val_loss: 0.1364 - val_mae: 0.2638\n",
            "Epoch 174/300\n",
            "170/170 [==============================] - 0s 1ms/step - loss: 0.1275 - mae: 0.2542 - val_loss: 0.1369 - val_mae: 0.2552\n",
            "Epoch 175/300\n",
            "170/170 [==============================] - 0s 1ms/step - loss: 0.1275 - mae: 0.2523 - val_loss: 0.1365 - val_mae: 0.2611\n",
            "Epoch 176/300\n",
            "170/170 [==============================] - 0s 1ms/step - loss: 0.1276 - mae: 0.2543 - val_loss: 0.1364 - val_mae: 0.2643\n",
            "Epoch 177/300\n",
            "170/170 [==============================] - 0s 1ms/step - loss: 0.1273 - mae: 0.2538 - val_loss: 0.1365 - val_mae: 0.2624\n",
            "Epoch 178/300\n",
            "170/170 [==============================] - 0s 1ms/step - loss: 0.1273 - mae: 0.2541 - val_loss: 0.1366 - val_mae: 0.2606\n",
            "Epoch 179/300\n",
            "170/170 [==============================] - 0s 1ms/step - loss: 0.1274 - mae: 0.2524 - val_loss: 0.1369 - val_mae: 0.2902\n",
            "Epoch 180/300\n",
            "170/170 [==============================] - 0s 1ms/step - loss: 0.1273 - mae: 0.2558 - val_loss: 0.1367 - val_mae: 0.2583\n",
            "Epoch 181/300\n",
            "170/170 [==============================] - 0s 1ms/step - loss: 0.1273 - mae: 0.2530 - val_loss: 0.1364 - val_mae: 0.2807\n",
            "Epoch 182/300\n",
            "170/170 [==============================] - 0s 1ms/step - loss: 0.1274 - mae: 0.2534 - val_loss: 0.1364 - val_mae: 0.2804\n",
            "Epoch 183/300\n",
            "170/170 [==============================] - 0s 1ms/step - loss: 0.1276 - mae: 0.2533 - val_loss: 0.1366 - val_mae: 0.2851\n",
            "Epoch 184/300\n",
            "170/170 [==============================] - 0s 1ms/step - loss: 0.1276 - mae: 0.2547 - val_loss: 0.1363 - val_mae: 0.2759\n",
            "Epoch 185/300\n",
            "170/170 [==============================] - 0s 1ms/step - loss: 0.1275 - mae: 0.2541 - val_loss: 0.1368 - val_mae: 0.2564\n",
            "Epoch 186/300\n",
            "170/170 [==============================] - 0s 1ms/step - loss: 0.1275 - mae: 0.2540 - val_loss: 0.1367 - val_mae: 0.2585\n",
            "Epoch 187/300\n",
            "170/170 [==============================] - 0s 1ms/step - loss: 0.1274 - mae: 0.2533 - val_loss: 0.1368 - val_mae: 0.2568\n",
            "Epoch 188/300\n",
            "170/170 [==============================] - 0s 1ms/step - loss: 0.1274 - mae: 0.2533 - val_loss: 0.1363 - val_mae: 0.2747\n",
            "Epoch 189/300\n",
            "170/170 [==============================] - 0s 1ms/step - loss: 0.1274 - mae: 0.2540 - val_loss: 0.1367 - val_mae: 0.2860\n",
            "Epoch 190/300\n",
            "170/170 [==============================] - 0s 1ms/step - loss: 0.1274 - mae: 0.2550 - val_loss: 0.1366 - val_mae: 0.2600\n",
            "Epoch 191/300\n",
            "170/170 [==============================] - 0s 1ms/step - loss: 0.1274 - mae: 0.2533 - val_loss: 0.1363 - val_mae: 0.2747\n",
            "Epoch 192/300\n",
            "170/170 [==============================] - 0s 1ms/step - loss: 0.1273 - mae: 0.2546 - val_loss: 0.1370 - val_mae: 0.2541\n",
            "Epoch 193/300\n",
            "170/170 [==============================] - 0s 1ms/step - loss: 0.1274 - mae: 0.2513 - val_loss: 0.1363 - val_mae: 0.2769\n",
            "Epoch 194/300\n",
            "170/170 [==============================] - 0s 1ms/step - loss: 0.1274 - mae: 0.2542 - val_loss: 0.1376 - val_mae: 0.2479\n",
            "Epoch 195/300\n",
            "170/170 [==============================] - 0s 980us/step - loss: 0.1275 - mae: 0.2528 - val_loss: 0.1365 - val_mae: 0.2620\n",
            "Epoch 196/300\n",
            "170/170 [==============================] - 0s 1ms/step - loss: 0.1270 - mae: 0.2546 - val_loss: 0.1400 - val_mae: 0.2314\n",
            "Epoch 197/300\n",
            "170/170 [==============================] - 0s 1ms/step - loss: 0.1275 - mae: 0.2517 - val_loss: 0.1365 - val_mae: 0.2622\n",
            "Epoch 198/300\n",
            "170/170 [==============================] - 0s 996us/step - loss: 0.1274 - mae: 0.2545 - val_loss: 0.1373 - val_mae: 0.2508\n",
            "Epoch 199/300\n",
            "170/170 [==============================] - 0s 1ms/step - loss: 0.1274 - mae: 0.2536 - val_loss: 0.1379 - val_mae: 0.2455\n",
            "Epoch 200/300\n",
            "170/170 [==============================] - 0s 1ms/step - loss: 0.1275 - mae: 0.2530 - val_loss: 0.1373 - val_mae: 0.2505\n",
            "Epoch 201/300\n",
            "170/170 [==============================] - 0s 1ms/step - loss: 0.1272 - mae: 0.2520 - val_loss: 0.1365 - val_mae: 0.2837\n",
            "Epoch 202/300\n",
            "170/170 [==============================] - 0s 1ms/step - loss: 0.1276 - mae: 0.2552 - val_loss: 0.1363 - val_mae: 0.2734\n",
            "Epoch 203/300\n",
            "170/170 [==============================] - 0s 1ms/step - loss: 0.1275 - mae: 0.2543 - val_loss: 0.1363 - val_mae: 0.2673\n",
            "Epoch 204/300\n",
            "170/170 [==============================] - 0s 1ms/step - loss: 0.1274 - mae: 0.2546 - val_loss: 0.1379 - val_mae: 0.2453\n",
            "Epoch 205/300\n",
            "170/170 [==============================] - 0s 1ms/step - loss: 0.1275 - mae: 0.2528 - val_loss: 0.1363 - val_mae: 0.2762\n",
            "Epoch 206/300\n",
            "170/170 [==============================] - 0s 1ms/step - loss: 0.1276 - mae: 0.2536 - val_loss: 0.1374 - val_mae: 0.2954\n",
            "Epoch 207/300\n",
            "170/170 [==============================] - 0s 1ms/step - loss: 0.1277 - mae: 0.2569 - val_loss: 0.1369 - val_mae: 0.2549\n",
            "Epoch 208/300\n",
            "170/170 [==============================] - 0s 1ms/step - loss: 0.1273 - mae: 0.2526 - val_loss: 0.1363 - val_mae: 0.2685\n",
            "Epoch 209/300\n",
            "170/170 [==============================] - 0s 1ms/step - loss: 0.1275 - mae: 0.2531 - val_loss: 0.1366 - val_mae: 0.2592\n",
            "Epoch 210/300\n",
            "170/170 [==============================] - 0s 1ms/step - loss: 0.1275 - mae: 0.2530 - val_loss: 0.1363 - val_mae: 0.2664\n",
            "Epoch 211/300\n",
            "170/170 [==============================] - 0s 1ms/step - loss: 0.1274 - mae: 0.2548 - val_loss: 0.1394 - val_mae: 0.2347\n",
            "Epoch 212/300\n",
            "170/170 [==============================] - 0s 1ms/step - loss: 0.1273 - mae: 0.2532 - val_loss: 0.1371 - val_mae: 0.2528\n",
            "Epoch 213/300\n",
            "170/170 [==============================] - 0s 1ms/step - loss: 0.1274 - mae: 0.2528 - val_loss: 0.1363 - val_mae: 0.2681\n",
            "Epoch 214/300\n",
            "170/170 [==============================] - 0s 1ms/step - loss: 0.1275 - mae: 0.2536 - val_loss: 0.1363 - val_mae: 0.2678\n",
            "Epoch 215/300\n",
            "170/170 [==============================] - 0s 1ms/step - loss: 0.1274 - mae: 0.2532 - val_loss: 0.1363 - val_mae: 0.2716\n",
            "Epoch 216/300\n",
            "170/170 [==============================] - 0s 1ms/step - loss: 0.1274 - mae: 0.2537 - val_loss: 0.1363 - val_mae: 0.2785\n",
            "Epoch 217/300\n",
            "170/170 [==============================] - 0s 1ms/step - loss: 0.1273 - mae: 0.2536 - val_loss: 0.1366 - val_mae: 0.2841\n",
            "Epoch 218/300\n",
            "170/170 [==============================] - 0s 1ms/step - loss: 0.1276 - mae: 0.2551 - val_loss: 0.1363 - val_mae: 0.2663\n",
            "Epoch 219/300\n",
            "170/170 [==============================] - 0s 1ms/step - loss: 0.1274 - mae: 0.2537 - val_loss: 0.1378 - val_mae: 0.2464\n",
            "Epoch 220/300\n",
            "170/170 [==============================] - 0s 1ms/step - loss: 0.1276 - mae: 0.2526 - val_loss: 0.1364 - val_mae: 0.2644\n",
            "Epoch 221/300\n",
            "170/170 [==============================] - 0s 1ms/step - loss: 0.1273 - mae: 0.2540 - val_loss: 0.1366 - val_mae: 0.2600\n",
            "Epoch 222/300\n",
            "170/170 [==============================] - 0s 1ms/step - loss: 0.1276 - mae: 0.2533 - val_loss: 0.1365 - val_mae: 0.2617\n",
            "Epoch 223/300\n",
            "170/170 [==============================] - 0s 1ms/step - loss: 0.1274 - mae: 0.2529 - val_loss: 0.1363 - val_mae: 0.2735\n",
            "Epoch 224/300\n",
            "170/170 [==============================] - 0s 1ms/step - loss: 0.1274 - mae: 0.2523 - val_loss: 0.1363 - val_mae: 0.2706\n",
            "Epoch 225/300\n",
            "170/170 [==============================] - 0s 1ms/step - loss: 0.1274 - mae: 0.2544 - val_loss: 0.1366 - val_mae: 0.2597\n",
            "Epoch 226/300\n",
            "170/170 [==============================] - 0s 1ms/step - loss: 0.1276 - mae: 0.2532 - val_loss: 0.1366 - val_mae: 0.2607\n",
            "Epoch 227/300\n",
            "170/170 [==============================] - 0s 1ms/step - loss: 0.1274 - mae: 0.2531 - val_loss: 0.1366 - val_mae: 0.2604\n",
            "Epoch 228/300\n",
            "170/170 [==============================] - 0s 1ms/step - loss: 0.1275 - mae: 0.2542 - val_loss: 0.1372 - val_mae: 0.2519\n",
            "Epoch 229/300\n",
            "170/170 [==============================] - 0s 1ms/step - loss: 0.1275 - mae: 0.2522 - val_loss: 0.1366 - val_mae: 0.2849\n",
            "Epoch 230/300\n",
            "170/170 [==============================] - 0s 1ms/step - loss: 0.1273 - mae: 0.2537 - val_loss: 0.1364 - val_mae: 0.2799\n",
            "Epoch 231/300\n",
            "170/170 [==============================] - 0s 1ms/step - loss: 0.1274 - mae: 0.2551 - val_loss: 0.1384 - val_mae: 0.2414\n",
            "Epoch 232/300\n",
            "170/170 [==============================] - 0s 1ms/step - loss: 0.1274 - mae: 0.2522 - val_loss: 0.1363 - val_mae: 0.2757\n",
            "Epoch 233/300\n",
            "170/170 [==============================] - 0s 1ms/step - loss: 0.1274 - mae: 0.2538 - val_loss: 0.1367 - val_mae: 0.2581\n",
            "Epoch 234/300\n",
            "170/170 [==============================] - 0s 1ms/step - loss: 0.1276 - mae: 0.2520 - val_loss: 0.1364 - val_mae: 0.2807\n",
            "Epoch 235/300\n",
            "170/170 [==============================] - 0s 1ms/step - loss: 0.1273 - mae: 0.2559 - val_loss: 0.1399 - val_mae: 0.2320\n",
            "Epoch 236/300\n",
            "170/170 [==============================] - 0s 1ms/step - loss: 0.1273 - mae: 0.2524 - val_loss: 0.1381 - val_mae: 0.2433\n",
            "Epoch 237/300\n",
            "170/170 [==============================] - 0s 1ms/step - loss: 0.1274 - mae: 0.2519 - val_loss: 0.1363 - val_mae: 0.2749\n",
            "Epoch 238/300\n",
            "170/170 [==============================] - 0s 1ms/step - loss: 0.1275 - mae: 0.2540 - val_loss: 0.1363 - val_mae: 0.2677\n",
            "Epoch 239/300\n",
            "170/170 [==============================] - 0s 1ms/step - loss: 0.1273 - mae: 0.2544 - val_loss: 0.1378 - val_mae: 0.2459\n",
            "Epoch 240/300\n",
            "170/170 [==============================] - 0s 1ms/step - loss: 0.1273 - mae: 0.2541 - val_loss: 0.1378 - val_mae: 0.2458\n",
            "Epoch 241/300\n",
            "170/170 [==============================] - 0s 1ms/step - loss: 0.1277 - mae: 0.2529 - val_loss: 0.1363 - val_mae: 0.2744\n",
            "Epoch 242/300\n",
            "170/170 [==============================] - 0s 1ms/step - loss: 0.1275 - mae: 0.2537 - val_loss: 0.1368 - val_mae: 0.2889\n",
            "Epoch 243/300\n",
            "170/170 [==============================] - 0s 1ms/step - loss: 0.1275 - mae: 0.2541 - val_loss: 0.1363 - val_mae: 0.2778\n",
            "Epoch 244/300\n",
            "170/170 [==============================] - 0s 1ms/step - loss: 0.1274 - mae: 0.2549 - val_loss: 0.1376 - val_mae: 0.2477\n",
            "Epoch 245/300\n",
            "170/170 [==============================] - 0s 1ms/step - loss: 0.1272 - mae: 0.2516 - val_loss: 0.1366 - val_mae: 0.2595\n",
            "Epoch 246/300\n",
            "170/170 [==============================] - 0s 1ms/step - loss: 0.1274 - mae: 0.2514 - val_loss: 0.1368 - val_mae: 0.2884\n",
            "Epoch 247/300\n",
            "170/170 [==============================] - 0s 1ms/step - loss: 0.1274 - mae: 0.2550 - val_loss: 0.1363 - val_mae: 0.2725\n",
            "Epoch 248/300\n",
            "170/170 [==============================] - 0s 1ms/step - loss: 0.1274 - mae: 0.2540 - val_loss: 0.1363 - val_mae: 0.2693\n",
            "Epoch 249/300\n",
            "170/170 [==============================] - 0s 1ms/step - loss: 0.1274 - mae: 0.2532 - val_loss: 0.1366 - val_mae: 0.2599\n",
            "Epoch 250/300\n",
            "170/170 [==============================] - 0s 992us/step - loss: 0.1275 - mae: 0.2521 - val_loss: 0.1365 - val_mae: 0.2821\n",
            "Epoch 251/300\n",
            "170/170 [==============================] - 0s 997us/step - loss: 0.1275 - mae: 0.2555 - val_loss: 0.1375 - val_mae: 0.2491\n",
            "Epoch 252/300\n",
            "170/170 [==============================] - 0s 1ms/step - loss: 0.1272 - mae: 0.2529 - val_loss: 0.1366 - val_mae: 0.2595\n",
            "Epoch 253/300\n",
            "170/170 [==============================] - 0s 1ms/step - loss: 0.1274 - mae: 0.2545 - val_loss: 0.1368 - val_mae: 0.2562\n",
            "Epoch 254/300\n",
            "170/170 [==============================] - 0s 993us/step - loss: 0.1276 - mae: 0.2526 - val_loss: 0.1363 - val_mae: 0.2744\n",
            "Epoch 255/300\n",
            "170/170 [==============================] - 0s 976us/step - loss: 0.1274 - mae: 0.2544 - val_loss: 0.1364 - val_mae: 0.2804\n",
            "Epoch 256/300\n",
            "170/170 [==============================] - 0s 990us/step - loss: 0.1274 - mae: 0.2540 - val_loss: 0.1370 - val_mae: 0.2906\n",
            "Epoch 257/300\n",
            "170/170 [==============================] - 0s 1ms/step - loss: 0.1275 - mae: 0.2542 - val_loss: 0.1363 - val_mae: 0.2714\n",
            "Epoch 258/300\n",
            "170/170 [==============================] - 0s 1ms/step - loss: 0.1272 - mae: 0.2534 - val_loss: 0.1365 - val_mae: 0.2615\n",
            "Epoch 259/300\n",
            "170/170 [==============================] - 0s 1ms/step - loss: 0.1274 - mae: 0.2525 - val_loss: 0.1367 - val_mae: 0.2575\n",
            "Epoch 260/300\n",
            "170/170 [==============================] - 0s 1ms/step - loss: 0.1272 - mae: 0.2543 - val_loss: 0.1384 - val_mae: 0.2409\n",
            "Epoch 261/300\n",
            "170/170 [==============================] - 0s 999us/step - loss: 0.1274 - mae: 0.2529 - val_loss: 0.1372 - val_mae: 0.2521\n",
            "Epoch 262/300\n",
            "170/170 [==============================] - 0s 1ms/step - loss: 0.1276 - mae: 0.2535 - val_loss: 0.1363 - val_mae: 0.2772\n",
            "Epoch 263/300\n",
            "170/170 [==============================] - 0s 1ms/step - loss: 0.1274 - mae: 0.2553 - val_loss: 0.1367 - val_mae: 0.2579\n",
            "Epoch 264/300\n",
            "170/170 [==============================] - 0s 1ms/step - loss: 0.1274 - mae: 0.2536 - val_loss: 0.1376 - val_mae: 0.2477\n",
            "Epoch 265/300\n",
            "170/170 [==============================] - 0s 1ms/step - loss: 0.1273 - mae: 0.2530 - val_loss: 0.1363 - val_mae: 0.2692\n",
            "Epoch 266/300\n",
            "170/170 [==============================] - 0s 1ms/step - loss: 0.1272 - mae: 0.2534 - val_loss: 0.1365 - val_mae: 0.2628\n",
            "Epoch 267/300\n",
            "170/170 [==============================] - 0s 1ms/step - loss: 0.1273 - mae: 0.2531 - val_loss: 0.1363 - val_mae: 0.2664\n",
            "Epoch 268/300\n",
            "170/170 [==============================] - 0s 1ms/step - loss: 0.1274 - mae: 0.2536 - val_loss: 0.1363 - val_mae: 0.2704\n",
            "Epoch 269/300\n",
            "170/170 [==============================] - 0s 1ms/step - loss: 0.1274 - mae: 0.2535 - val_loss: 0.1363 - val_mae: 0.2701\n",
            "Epoch 270/300\n",
            "170/170 [==============================] - 0s 1ms/step - loss: 0.1272 - mae: 0.2548 - val_loss: 0.1372 - val_mae: 0.2514\n",
            "Epoch 271/300\n",
            "170/170 [==============================] - 0s 1ms/step - loss: 0.1274 - mae: 0.2527 - val_loss: 0.1363 - val_mae: 0.2685\n",
            "Epoch 272/300\n",
            "170/170 [==============================] - 0s 1ms/step - loss: 0.1274 - mae: 0.2555 - val_loss: 0.1377 - val_mae: 0.2465\n",
            "Epoch 273/300\n",
            "170/170 [==============================] - 0s 1ms/step - loss: 0.1274 - mae: 0.2513 - val_loss: 0.1363 - val_mae: 0.2788\n",
            "Epoch 274/300\n",
            "170/170 [==============================] - 0s 1ms/step - loss: 0.1274 - mae: 0.2533 - val_loss: 0.1368 - val_mae: 0.2564\n",
            "Epoch 275/300\n",
            "170/170 [==============================] - 0s 1ms/step - loss: 0.1275 - mae: 0.2522 - val_loss: 0.1363 - val_mae: 0.2722\n",
            "Epoch 276/300\n",
            "170/170 [==============================] - 0s 1ms/step - loss: 0.1273 - mae: 0.2532 - val_loss: 0.1367 - val_mae: 0.2580\n",
            "Epoch 277/300\n",
            "170/170 [==============================] - 0s 1ms/step - loss: 0.1274 - mae: 0.2527 - val_loss: 0.1363 - val_mae: 0.2716\n",
            "Epoch 278/300\n",
            "170/170 [==============================] - 0s 1ms/step - loss: 0.1276 - mae: 0.2542 - val_loss: 0.1366 - val_mae: 0.2608\n",
            "Epoch 279/300\n",
            "170/170 [==============================] - 0s 1ms/step - loss: 0.1275 - mae: 0.2534 - val_loss: 0.1365 - val_mae: 0.2820\n",
            "Epoch 280/300\n",
            "170/170 [==============================] - 0s 997us/step - loss: 0.1275 - mae: 0.2550 - val_loss: 0.1363 - val_mae: 0.2693\n",
            "Epoch 281/300\n",
            "170/170 [==============================] - 0s 1ms/step - loss: 0.1275 - mae: 0.2540 - val_loss: 0.1363 - val_mae: 0.2709\n",
            "Epoch 282/300\n",
            "170/170 [==============================] - 0s 1ms/step - loss: 0.1274 - mae: 0.2551 - val_loss: 0.1379 - val_mae: 0.2452\n",
            "Epoch 283/300\n",
            "170/170 [==============================] - 0s 999us/step - loss: 0.1274 - mae: 0.2537 - val_loss: 0.1389 - val_mae: 0.2377\n",
            "Epoch 284/300\n",
            "170/170 [==============================] - 0s 1ms/step - loss: 0.1274 - mae: 0.2530 - val_loss: 0.1378 - val_mae: 0.2456\n",
            "Epoch 285/300\n",
            "170/170 [==============================] - 0s 1ms/step - loss: 0.1275 - mae: 0.2529 - val_loss: 0.1363 - val_mae: 0.2678\n",
            "Epoch 286/300\n",
            "170/170 [==============================] - 0s 1ms/step - loss: 0.1275 - mae: 0.2549 - val_loss: 0.1376 - val_mae: 0.2481\n",
            "Epoch 287/300\n",
            "170/170 [==============================] - 0s 1ms/step - loss: 0.1273 - mae: 0.2532 - val_loss: 0.1378 - val_mae: 0.2463\n",
            "Epoch 288/300\n",
            "170/170 [==============================] - 0s 1ms/step - loss: 0.1273 - mae: 0.2523 - val_loss: 0.1364 - val_mae: 0.2655\n",
            "Epoch 289/300\n",
            "170/170 [==============================] - 0s 1ms/step - loss: 0.1275 - mae: 0.2536 - val_loss: 0.1363 - val_mae: 0.2718\n",
            "Epoch 290/300\n",
            "170/170 [==============================] - 0s 1ms/step - loss: 0.1275 - mae: 0.2549 - val_loss: 0.1369 - val_mae: 0.2549\n",
            "Epoch 291/300\n",
            "170/170 [==============================] - 0s 1ms/step - loss: 0.1275 - mae: 0.2530 - val_loss: 0.1363 - val_mae: 0.2717\n",
            "Epoch 292/300\n",
            "170/170 [==============================] - 0s 1ms/step - loss: 0.1272 - mae: 0.2561 - val_loss: 0.1404 - val_mae: 0.2289\n",
            "Epoch 293/300\n",
            "170/170 [==============================] - 0s 1ms/step - loss: 0.1275 - mae: 0.2535 - val_loss: 0.1370 - val_mae: 0.2542\n",
            "Epoch 294/300\n",
            "170/170 [==============================] - 0s 998us/step - loss: 0.1273 - mae: 0.2521 - val_loss: 0.1367 - val_mae: 0.2586\n",
            "Epoch 295/300\n",
            "170/170 [==============================] - 0s 1ms/step - loss: 0.1276 - mae: 0.2537 - val_loss: 0.1368 - val_mae: 0.2561\n",
            "Epoch 296/300\n",
            "170/170 [==============================] - 0s 999us/step - loss: 0.1275 - mae: 0.2527 - val_loss: 0.1364 - val_mae: 0.2657\n",
            "Epoch 297/300\n",
            "170/170 [==============================] - 0s 1ms/step - loss: 0.1274 - mae: 0.2526 - val_loss: 0.1363 - val_mae: 0.2783\n",
            "Epoch 298/300\n",
            "170/170 [==============================] - 0s 1ms/step - loss: 0.1275 - mae: 0.2540 - val_loss: 0.1363 - val_mae: 0.2735\n",
            "Epoch 299/300\n",
            "170/170 [==============================] - 0s 1ms/step - loss: 0.1274 - mae: 0.2525 - val_loss: 0.1366 - val_mae: 0.2856\n",
            "Epoch 300/300\n",
            "170/170 [==============================] - 0s 1ms/step - loss: 0.1274 - mae: 0.2553 - val_loss: 0.1363 - val_mae: 0.2711\n"
          ]
        },
        {
          "data": {
            "text/plain": [
              "<keras.src.callbacks.History at 0x1ea39714890>"
            ]
          },
          "execution_count": 53,
          "metadata": {},
          "output_type": "execute_result"
        }
      ],
      "source": [
        "model.fit(X_train, Y_train,validation_data=(X_test, Y_test),epochs=300,batch_size=20)"
      ]
    },
    {
      "cell_type": "code",
      "execution_count": 54,
      "metadata": {},
      "outputs": [
        {
          "name": "stdout",
          "output_type": "stream",
          "text": [
            "27/27 [==============================] - 0s 675us/step\n"
          ]
        }
      ],
      "source": [
        "Y_pred_nn = model.predict(X_test)"
      ]
    },
    {
      "cell_type": "code",
      "execution_count": 55,
      "metadata": {},
      "outputs": [
        {
          "data": {
            "text/plain": [
              "(848, 1)"
            ]
          },
          "execution_count": 55,
          "metadata": {},
          "output_type": "execute_result"
        }
      ],
      "source": [
        "Y_pred_nn.shape"
      ]
    },
    {
      "cell_type": "code",
      "execution_count": 56,
      "metadata": {},
      "outputs": [],
      "source": [
        "rounded = [round(x[0]) for x in Y_pred_nn]\n",
        "Y_pred_nn = rounded"
      ]
    },
    {
      "cell_type": "code",
      "execution_count": 57,
      "metadata": {},
      "outputs": [
        {
          "name": "stdout",
          "output_type": "stream",
          "text": [
            "The accuracy score achieved using Neural Network is: 83.73 %\n"
          ]
        }
      ],
      "source": [
        "score_nn = round(accuracy_score(Y_pred_nn,Y_test)*100,2)\n",
        "\n",
        "print(\"The accuracy score achieved using Neural Network is: \"+str(score_nn)+\" %\")"
      ]
    },
    {
      "cell_type": "markdown",
      "metadata": {},
      "source": [
        "Final scores"
      ]
    },
    {
      "cell_type": "code",
      "execution_count": 83,
      "metadata": {
        "colab": {
          "base_uri": "https://localhost:8080/"
        },
        "id": "uTrC_QsNvtXW",
        "outputId": "dee8838d-51e3-4bdf-bfc9-131e6d3f7511"
      },
      "outputs": [
        {
          "name": "stdout",
          "output_type": "stream",
          "text": [
            "The accuracy score achieved using Logistic Regression is: 83.84 %\n",
            "The accuracy score achieved using Naive Bayes is: 82.55 %\n",
            "The accuracy score achieved using Support Vector Machine is: 83.73 %\n",
            "The accuracy score achieved using K-Nearest Neighbors is: 82.55 %\n",
            "The accuracy score achieved using Decision Tree is: 74.76 %\n",
            "The accuracy score achieved using Random Forest is: 85.14 %\n",
            "The accuracy score achieved using XGBoost is: 82.08 %\n",
            "The accuracy score achieved using Neural Network is: 83.73 %\n"
          ]
        }
      ],
      "source": [
        "scores = [score_lr,score_nb,score_svm,score_knn,score_dt,score_rf,score_xgb,score_nn]\n",
        "algorithms = [\"Logistic Regression\",\"Naive Bayes\",\"Support Vector Machine\",\"K-Nearest Neighbors\",\"Decision Tree\",\"Random Forest\",\"XGBoost\",\"Neural Network\"]    \n",
        "\n",
        "for i in range(len(algorithms)):\n",
        "    print(\"The accuracy score achieved using \"+algorithms[i]+\" is: \"+str(scores[i])+\" %\")"
      ]
    },
    {
      "cell_type": "code",
      "execution_count": 108,
      "metadata": {
        "colab": {
          "base_uri": "https://localhost:8080/",
          "height": 556
        },
        "id": "Es_FXF60ykLE",
        "outputId": "b229dfd4-f525-4370-8fe4-60879b3aafa2"
      },
      "outputs": [
        {
          "data": {
            "image/png": "[encoded data removed]",
            "text/plain": [
              "<Figure size 1500x800 with 1 Axes>"
            ]
          },
          "metadata": {},
          "output_type": "display_data"
        }
      ],
      "source": [
        "sns.barplot(y=algorithms,x=scores,palette=\"rocket\",orient='y')\n",
        "plt.show()"
      ]
    },
    {
      "cell_type": "markdown",
      "metadata": {},
      "source": [
        "As per the outcomes Random Forest got the highest accuracy score"
      ]
    }
  ],
  "metadata": {
    "colab": {
      "provenance": []
    },
    "kernelspec": {
      "display_name": "Python 3",
      "name": "python3"
    },
    "language_info": {
      "codemirror_mode": {
        "name": "ipython",
        "version": 3
      },
      "file_extension": ".py",
      "mimetype": "text/x-python",
      "name": "python",
      "nbconvert_exporter": "python",
      "pygments_lexer": "ipython3",
      "version": "3.11.4"
    }
  },
  "nbformat": 4,
  "nbformat_minor": 0
}
